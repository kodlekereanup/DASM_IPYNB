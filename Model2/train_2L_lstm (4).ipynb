{
  "nbformat": 4,
  "nbformat_minor": 0,
  "metadata": {
    "colab": {
      "name": "train_2L_lstm.ipynb",
      "provenance": [],
      "collapsed_sections": []
    },
    "kernelspec": {
      "name": "python3",
      "display_name": "Python 3"
    },
    "language_info": {
      "name": "python"
    },
    "accelerator": "GPU"
  },
  "cells": [
    {
      "cell_type": "code",
      "metadata": {
        "id": "ZzlJiOr0W7YX"
      },
      "source": [
        "import keras\n",
        "import pickle\n",
        "import numpy as np\n",
        "import matplotlib.pyplot as plt\n",
        "from keras.preprocessing.text import Tokenizer\n",
        "from keras.layers import Dense, Dropout, LSTM, Embedding, Bidirectional, InputLayer"
      ],
      "execution_count": null,
      "outputs": []
    },
    {
      "cell_type": "code",
      "metadata": {
        "id": "jrn5HgScW3dn"
      },
      "source": [
        "max_vocab=400000\n",
        "max_length=25"
      ],
      "execution_count": null,
      "outputs": []
    },
    {
      "cell_type": "code",
      "metadata": {
        "id": "02gOrgfJX2hB"
      },
      "source": [
        "with open('/content/drive/MyDrive/newfsacd_x_train.pickle', 'rb') as handle:\n",
        "    X_train = pickle.load(handle)\n",
        "\n",
        "with open('/content/drive/MyDrive/newfsacd_x_test.pickle', 'rb') as handle:\n",
        "    X_test = pickle.load(handle)\n",
        "    \n",
        "with open('/content/drive/MyDrive/newfsacd_y_train.pickle', 'rb') as handle:\n",
        "    Y_train = pickle.load(handle)\n",
        "    \n",
        "with open('/content/drive/MyDrive/newfsacd_y_test.pickle', 'rb') as handle:\n",
        "    Y_test = pickle.load(handle)\n",
        "\n",
        "with open('/content/drive/MyDrive/embmat.pickle', 'rb') as handle:\n",
        "    embedding_matrix = pickle.load(handle)\n"
      ],
      "execution_count": null,
      "outputs": []
    },
    {
      "cell_type": "code",
      "metadata": {
        "id": "48VQV6YzW2_g"
      },
      "source": [
        "model = keras.models.Sequential()\n",
        "\n",
        "model.add(InputLayer(input_shape=(max_length)))\n",
        "model.add(Embedding(max_vocab, 300, weights=[embedding_matrix], input_length=max_length,mask_zero=True, trainable=False))\n",
        "model.add((LSTM(64, return_sequences=True)))\n",
        "model.add((LSTM(32)))\n",
        "model.add(Dense(64, activation='relu'))\n",
        "model.add(Dropout(0.5))\n",
        "model.add(Dense(3, activation='softmax'))"
      ],
      "execution_count": null,
      "outputs": []
    },
    {
      "cell_type": "code",
      "metadata": {
        "id": "1X2wSwWpX9Pg",
        "colab": {
          "base_uri": "https://localhost:8080/"
        },
        "outputId": "c90dd03c-8346-4e90-901e-6e2285734f6c"
      },
      "source": [
        "# Compile the Model\n",
        "\n",
        "model.compile(keras.optimizers.Adam(lr=0.0001),loss='sparse_categorical_crossentropy',\n",
        "                metrics=['accuracy'])"
      ],
      "execution_count": null,
      "outputs": [
        {
          "output_type": "stream",
          "text": [
            "/usr/local/lib/python3.7/dist-packages/tensorflow/python/keras/optimizer_v2/optimizer_v2.py:375: UserWarning: The `lr` argument is deprecated, use `learning_rate` instead.\n",
            "  \"The `lr` argument is deprecated, use `learning_rate` instead.\")\n"
          ],
          "name": "stderr"
        }
      ]
    },
    {
      "cell_type": "code",
      "metadata": {
        "colab": {
          "base_uri": "https://localhost:8080/"
        },
        "id": "Um5jDQxwYCmw",
        "outputId": "e94e8510-de6d-409b-e9eb-8f122510f379"
      },
      "source": [
        "history_model = model.fit(X_train,Y_train, batch_size=128, epochs=20,validation_split=0.1, verbose=True)"
      ],
      "execution_count": null,
      "outputs": [
        {
          "output_type": "stream",
          "text": [
            "Epoch 1/20\n",
            "10974/10974 [==============================] - 545s 49ms/step - loss: 0.6256 - accuracy: 0.7163 - val_loss: 0.4796 - val_accuracy: 0.7846\n",
            "Epoch 2/20\n",
            "10974/10974 [==============================] - 538s 49ms/step - loss: 0.4797 - accuracy: 0.7901 - val_loss: 0.4589 - val_accuracy: 0.7956\n",
            "Epoch 3/20\n",
            "10974/10974 [==============================] - 543s 49ms/step - loss: 0.4598 - accuracy: 0.8000 - val_loss: 0.4480 - val_accuracy: 0.8005\n",
            "Epoch 4/20\n",
            "10974/10974 [==============================] - 535s 49ms/step - loss: 0.4483 - accuracy: 0.8049 - val_loss: 0.4390 - val_accuracy: 0.8051\n",
            "Epoch 5/20\n",
            "10974/10974 [==============================] - 532s 49ms/step - loss: 0.4410 - accuracy: 0.8088 - val_loss: 0.4344 - val_accuracy: 0.8075\n",
            "Epoch 6/20\n",
            "10974/10974 [==============================] - 530s 48ms/step - loss: 0.4343 - accuracy: 0.8119 - val_loss: 0.4319 - val_accuracy: 0.8092\n",
            "Epoch 7/20\n",
            "10974/10974 [==============================] - 530s 48ms/step - loss: 0.4292 - accuracy: 0.8141 - val_loss: 0.4295 - val_accuracy: 0.8108\n",
            "Epoch 8/20\n",
            "10974/10974 [==============================] - 533s 49ms/step - loss: 0.4250 - accuracy: 0.8163 - val_loss: 0.4263 - val_accuracy: 0.8123\n",
            "Epoch 9/20\n",
            "10974/10974 [==============================] - 536s 49ms/step - loss: 0.4223 - accuracy: 0.8174 - val_loss: 0.4266 - val_accuracy: 0.8115\n",
            "Epoch 10/20\n",
            "10974/10974 [==============================] - 528s 48ms/step - loss: 0.4191 - accuracy: 0.8189 - val_loss: 0.4243 - val_accuracy: 0.8131\n",
            "Epoch 11/20\n",
            "10974/10974 [==============================] - 533s 49ms/step - loss: 0.4172 - accuracy: 0.8204 - val_loss: 0.4243 - val_accuracy: 0.8132\n",
            "Epoch 12/20\n",
            "10974/10974 [==============================] - 529s 48ms/step - loss: 0.4152 - accuracy: 0.8205 - val_loss: 0.4221 - val_accuracy: 0.8141\n",
            "Epoch 13/20\n",
            "10974/10974 [==============================] - 529s 48ms/step - loss: 0.4120 - accuracy: 0.8224 - val_loss: 0.4222 - val_accuracy: 0.8147\n",
            "Epoch 14/20\n",
            "10974/10974 [==============================] - 532s 48ms/step - loss: 0.4096 - accuracy: 0.8231 - val_loss: 0.4202 - val_accuracy: 0.8154\n",
            "Epoch 15/20\n",
            "10974/10974 [==============================] - 528s 48ms/step - loss: 0.4081 - accuracy: 0.8237 - val_loss: 0.4213 - val_accuracy: 0.8148\n",
            "Epoch 16/20\n",
            "10974/10974 [==============================] - 529s 48ms/step - loss: 0.4052 - accuracy: 0.8250 - val_loss: 0.4197 - val_accuracy: 0.8160\n",
            "Epoch 17/20\n",
            "10974/10974 [==============================] - 532s 48ms/step - loss: 0.4038 - accuracy: 0.8260 - val_loss: 0.4198 - val_accuracy: 0.8159\n",
            "Epoch 18/20\n",
            "10974/10974 [==============================] - 534s 49ms/step - loss: 0.4032 - accuracy: 0.8256 - val_loss: 0.4197 - val_accuracy: 0.8152\n",
            "Epoch 19/20\n",
            "10974/10974 [==============================] - 536s 49ms/step - loss: 0.4019 - accuracy: 0.8260 - val_loss: 0.4203 - val_accuracy: 0.8165\n",
            "Epoch 20/20\n",
            "10974/10974 [==============================] - 540s 49ms/step - loss: 0.3993 - accuracy: 0.8280 - val_loss: 0.4186 - val_accuracy: 0.8175\n"
          ],
          "name": "stdout"
        }
      ]
    },
    {
      "cell_type": "code",
      "metadata": {
        "colab": {
          "base_uri": "https://localhost:8080/"
        },
        "id": "Hdr6ulpZpHqX",
        "outputId": "f2d4dca9-6eaa-4586-9f01-849ebb28b4a4"
      },
      "source": [
        "model.save('/content/drive/MyDrive/contract_newfsact_lstm2l_w_neu')"
      ],
      "execution_count": null,
      "outputs": [
        {
          "output_type": "stream",
          "text": [
            "WARNING:absl:Found untraced functions such as lstm_cell_6_layer_call_fn, lstm_cell_6_layer_call_and_return_conditional_losses, lstm_cell_7_layer_call_fn, lstm_cell_7_layer_call_and_return_conditional_losses, lstm_cell_6_layer_call_fn while saving (showing 5 of 10). These functions will not be directly callable after loading.\n"
          ],
          "name": "stderr"
        },
        {
          "output_type": "stream",
          "text": [
            "INFO:tensorflow:Assets written to: /content/drive/MyDrive/contract_newfsact_lstm2l_w_neu/assets\n"
          ],
          "name": "stdout"
        },
        {
          "output_type": "stream",
          "text": [
            "INFO:tensorflow:Assets written to: /content/drive/MyDrive/contract_newfsact_lstm2l_w_neu/assets\n"
          ],
          "name": "stderr"
        }
      ]
    },
    {
      "cell_type": "code",
      "metadata": {
        "id": "1JR4_-iCO8a9"
      },
      "source": [
        "# Calculate No. of epochs\n",
        "n_epochs=len(history_model.history['loss'])\n",
        "e = list(range(1,n_epochs+1))"
      ],
      "execution_count": null,
      "outputs": []
    },
    {
      "cell_type": "code",
      "metadata": {
        "colab": {
          "base_uri": "https://localhost:8080/",
          "height": 278
        },
        "id": "LdwMH-GYO_us",
        "outputId": "70ace5b3-8fc7-4f00-e7f2-598ebe19d005"
      },
      "source": [
        "# Training Loss\n",
        "plt.plot(e,history_model.history['loss'],'b', label='Training Loss')\n",
        "plt.plot(e, history_model.history['val_loss'], 'r', label = 'Validation Loss')\n",
        "plt.xlabel('Epochs')\n",
        "plt.ylabel('Loss')\n",
        "plt.legend()\n",
        "plt.show()"
      ],
      "execution_count": null,
      "outputs": [
        {
          "output_type": "display_data",
          "data": {
            "image/png": "[encoded data removed]",
            "text/plain": [
              "<Figure size 432x288 with 1 Axes>"
            ]
          },
          "metadata": {
            "tags": [],
            "needs_background": "light"
          }
        }
      ]
    },
    {
      "cell_type": "code",
      "metadata": {
        "colab": {
          "base_uri": "https://localhost:8080/",
          "height": 282
        },
        "id": "JiRlc2WcPBY7",
        "outputId": "ae31a83c-32b5-4c22-9232-f21f48ea8f67"
      },
      "source": [
        "# Training Loss\n",
        "plt.plot(e,history_model.history['accuracy'],'b', label='Training Accuracy')\n",
        "plt.plot(e, history_model.history['val_accuracy'], 'r', label = 'Validation Accuracy')\n",
        "plt.xlabel('Epochs')\n",
        "plt.ylabel('Accuracy')\n",
        "plt.legend()\n",
        "plt.show()"
      ],
      "execution_count": null,
      "outputs": [
        {
          "output_type": "display_data",
          "data": {
            "image/png": "[encoded data removed]",
            "text/plain": [
              "<Figure size 432x288 with 1 Axes>"
            ]
          },
          "metadata": {
            "tags": [],
            "needs_background": "light"
          }
        }
      ]
    },
    {
      "cell_type": "code",
      "metadata": {
        "colab": {
          "base_uri": "https://localhost:8080/"
        },
        "id": "EgaHPzcFPPPV",
        "outputId": "a460aa82-684c-4d86-b672-4bd7f79ba933"
      },
      "source": [
        "model.evaluate(X_test, Y_test)"
      ],
      "execution_count": null,
      "outputs": [
        {
          "output_type": "stream",
          "text": [
            "20903/20903 [==============================] - 110s 5ms/step - loss: 0.4171 - accuracy: 0.8185\n"
          ],
          "name": "stdout"
        },
        {
          "output_type": "execute_result",
          "data": {
            "text/plain": [
              "[0.4171237647533417, 0.8184861540794373]"
            ]
          },
          "metadata": {
            "tags": []
          },
          "execution_count": 16
        }
      ]
    },
    {
      "cell_type": "code",
      "metadata": {
        "colab": {
          "base_uri": "https://localhost:8080/",
          "height": 994
        },
        "id": "LM9GhXRCbXSM",
        "outputId": "68c88b45-5c25-4afd-a42c-31a835ba64d2"
      },
      "source": [
        "model.summary()\n",
        "from keras.utils.vis_utils import plot_model\n",
        "plot_model(model,to_file='/content/drive/MyDrive/contract_train_2l_lstm_model.png')"
      ],
      "execution_count": null,
      "outputs": [
        {
          "output_type": "stream",
          "text": [
            "Model: \"sequential_1\"\n",
            "_________________________________________________________________\n",
            "Layer (type)                 Output Shape              Param #   \n",
            "=================================================================\n",
            "embedding_1 (Embedding)      (None, 25, 300)           120000000 \n",
            "_________________________________________________________________\n",
            "lstm_2 (LSTM)                (None, 25, 64)            93440     \n",
            "_________________________________________________________________\n",
            "lstm_3 (LSTM)                (None, 32)                12416     \n",
            "_________________________________________________________________\n",
            "dense_2 (Dense)              (None, 64)                2112      \n",
            "_________________________________________________________________\n",
            "dropout_1 (Dropout)          (None, 64)                0         \n",
            "_________________________________________________________________\n",
            "dense_3 (Dense)              (None, 3)                 195       \n",
            "=================================================================\n",
            "Total params: 120,108,163\n",
            "Trainable params: 108,163\n",
            "Non-trainable params: 120,000,000\n",
            "_________________________________________________________________\n"
          ],
          "name": "stdout"
        },
        {
          "output_type": "execute_result",
          "data": {
            "image/png": "[encoded data removed]",
            "text/plain": [
              "<IPython.core.display.Image object>"
            ]
          },
          "metadata": {
            "tags": []
          },
          "execution_count": 18
        }
      ]
    },
    {
      "cell_type": "code",
      "metadata": {
        "id": "nbPTcjPlbYou"
      },
      "source": [
        ""
      ],
      "execution_count": null,
      "outputs": []
    }
  ]
}