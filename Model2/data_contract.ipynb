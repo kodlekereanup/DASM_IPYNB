{
  "nbformat": 4,
  "nbformat_minor": 0,
  "metadata": {
    "colab": {
      "name": "data_contract.ipynb",
      "provenance": [],
      "collapsed_sections": []
    },
    "kernelspec": {
      "name": "python3",
      "display_name": "Python 3"
    },
    "language_info": {
      "name": "python"
    },
    "accelerator": "TPU"
  },
  "cells": [
    {
      "cell_type": "code",
      "metadata": {
        "colab": {
          "base_uri": "https://localhost:8080/"
        },
        "id": "Kl550oWvuNqn",
        "outputId": "ffb949ed-9cf2-41c9-9f99-57466d1cde4a"
      },
      "source": [
        "!pip install contractions"
      ],
      "execution_count": null,
      "outputs": [
        {
          "output_type": "stream",
          "text": [
            "Collecting contractions\n",
            "  Downloading https://files.pythonhosted.org/packages/0a/04/d5e0bb9f2cef5d15616ebf68087a725c5dbdd71bd422bcfb35d709f98ce7/contractions-0.0.48-py2.py3-none-any.whl\n",
            "Collecting textsearch>=0.0.21\n",
            "  Downloading https://files.pythonhosted.org/packages/d3/fe/021d7d76961b5ceb9f8d022c4138461d83beff36c3938dc424586085e559/textsearch-0.0.21-py2.py3-none-any.whl\n",
            "Collecting pyahocorasick\n",
            "\u001b[?25l  Downloading https://files.pythonhosted.org/packages/7f/c2/eae730037ae1cbbfaa229d27030d1d5e34a1e41114b21447d1202ae9c220/pyahocorasick-1.4.2.tar.gz (321kB)\n",
            "\u001b[K     |████████████████████████████████| 327kB 5.2MB/s \n",
            "\u001b[?25hCollecting anyascii\n",
            "\u001b[?25l  Downloading https://files.pythonhosted.org/packages/09/c7/61370d9e3c349478e89a5554c1e5d9658e1e3116cc4f2528f568909ebdf1/anyascii-0.1.7-py3-none-any.whl (260kB)\n",
            "\u001b[K     |████████████████████████████████| 266kB 8.7MB/s \n",
            "\u001b[?25hBuilding wheels for collected packages: pyahocorasick\n",
            "  Building wheel for pyahocorasick (setup.py) ... \u001b[?25l\u001b[?25hdone\n",
            "  Created wheel for pyahocorasick: filename=pyahocorasick-1.4.2-cp37-cp37m-linux_x86_64.whl size=85389 sha256=bb1124bbcc02573273bf58051be9225e39c8ae5fc3ba08ba0f3332f8138d2226\n",
            "  Stored in directory: /root/.cache/pip/wheels/3a/03/34/77e3ece0bba8b86bfac88a79f923b36d805cad63caeba38842\n",
            "Successfully built pyahocorasick\n",
            "Installing collected packages: pyahocorasick, anyascii, textsearch, contractions\n",
            "Successfully installed anyascii-0.1.7 contractions-0.0.48 pyahocorasick-1.4.2 textsearch-0.0.21\n"
          ],
          "name": "stdout"
        }
      ]
    },
    {
      "cell_type": "code",
      "metadata": {
        "id": "zWh1r5X_gxTm"
      },
      "source": [
        "import pandas as pd\n",
        "import re\n",
        "import numpy as np\n",
        "import keras\n",
        "import pickle\n",
        "import matplotlib.pyplot as plt\n",
        "import nltk\n",
        "from keras.preprocessing.text import Tokenizer\n",
        "from keras.layers import Dropout, Dense, LSTM, Bidirectional, Embedding, InputLayer\n",
        "from sklearn.model_selection import train_test_split\n",
        "import seaborn as sns\n",
        "\n",
        "from nltk.corpus import stopwords\n",
        "from nltk.tokenize import RegexpTokenizer\n",
        "from nltk.stem import WordNetLemmatizer\n",
        "from nltk.tag import pos_tag\n",
        "\n",
        "import string\n",
        "import contractions\n",
        "import spacy"
      ],
      "execution_count": null,
      "outputs": []
    },
    {
      "cell_type": "code",
      "metadata": {
        "colab": {
          "base_uri": "https://localhost:8080/"
        },
        "id": "Y4d9SAxB45yn",
        "outputId": "51479d7d-f219-4b54-f37e-7cbde0c16785"
      },
      "source": [
        "nltk.download('averaged_perceptron_tagger')\n",
        "nltk.download('wordnet')"
      ],
      "execution_count": null,
      "outputs": [
        {
          "output_type": "stream",
          "text": [
            "[nltk_data] Downloading package averaged_perceptron_tagger to\n",
            "[nltk_data]     /root/nltk_data...\n",
            "[nltk_data]   Unzipping taggers/averaged_perceptron_tagger.zip.\n",
            "[nltk_data] Downloading package wordnet to /root/nltk_data...\n",
            "[nltk_data]   Unzipping corpora/wordnet.zip.\n"
          ],
          "name": "stdout"
        },
        {
          "output_type": "execute_result",
          "data": {
            "text/plain": [
              "True"
            ]
          },
          "metadata": {
            "tags": []
          },
          "execution_count": 2
        }
      ]
    },
    {
      "cell_type": "code",
      "metadata": {
        "id": "7aAbPR365GGV"
      },
      "source": [
        "dataset = pd.read_csv('/content/drive/MyDrive/dataset.csv')"
      ],
      "execution_count": null,
      "outputs": []
    },
    {
      "cell_type": "code",
      "metadata": {
        "colab": {
          "base_uri": "https://localhost:8080/",
          "height": 337
        },
        "id": "pIVXSbzR6Fjv",
        "outputId": "7f955e93-5a5e-4075-c599-84b5f8388aa8"
      },
      "source": [
        "sns.set_theme(style=\"darkgrid\")\n",
        "ax = sns.countplot(dataset.sentiment)"
      ],
      "execution_count": null,
      "outputs": [
        {
          "output_type": "stream",
          "text": [
            "/usr/local/lib/python3.7/dist-packages/seaborn/_decorators.py:43: FutureWarning: Pass the following variable as a keyword arg: x. From version 0.12, the only valid positional argument will be `data`, and passing other arguments without an explicit keyword will result in an error or misinterpretation.\n",
            "  FutureWarning\n"
          ],
          "name": "stderr"
        },
        {
          "output_type": "display_data",
          "data": {
            "image/png": "[encoded data removed]",
            "text/plain": [
              "<Figure size 432x288 with 1 Axes>"
            ]
          },
          "metadata": {
            "tags": []
          }
        }
      ]
    },
    {
      "cell_type": "code",
      "metadata": {
        "id": "nSAnT4Cc6MYg"
      },
      "source": [
        "tweets_data = np.array(dataset['text'])\n",
        "label_data = np.array(dataset['sentiment'])"
      ],
      "execution_count": null,
      "outputs": []
    },
    {
      "cell_type": "code",
      "metadata": {
        "colab": {
          "base_uri": "https://localhost:8080/"
        },
        "id": "iSrzg6fQudzp",
        "outputId": "dcc751cb-0f53-4eb2-e598-59628d986063"
      },
      "source": [
        "#remove contractions\n",
        "no_contract = []\n",
        "for item in range(len(tweets_data)):\n",
        "  try:\n",
        "    no_contract.append(contractions.fix(tweets_data[item]))\n",
        "  except IndexError:\n",
        "    print(item)"
      ],
      "execution_count": null,
      "outputs": [
        {
          "output_type": "stream",
          "text": [
            "1937039\n",
            "2125775\n",
            "2168108\n",
            "2195239\n"
          ],
          "name": "stdout"
        }
      ]
    },
    {
      "cell_type": "code",
      "metadata": {
        "id": "GNuIlMbBurzI"
      },
      "source": [
        "label_data = np.delete(label_data, [1937039,2125775,2168108,2195239])"
      ],
      "execution_count": null,
      "outputs": []
    },
    {
      "cell_type": "code",
      "metadata": {
        "id": "GKjKuB4lwWl8"
      },
      "source": [
        "def remove_noise(tweet_tokens):\n",
        "    # remove hyperlinks, special characters, emojis, punctuations\n",
        "    \n",
        "    for i in range(len(tweet_tokens)):\n",
        "        tweet_tokens[i] = re.sub('http[s]?://(?:[a-zA-Z]|[0-9]|[$-_@.&+#]|[!*\\(\\),]|'\\\n",
        "                           '(?:%[0-9a-fA-F][0-9a-fA-F]))*', ' ', tweet_tokens[i])\n",
        "        # Remove twitter handles\n",
        "        tweet_tokens[i] = re.sub(\"(@[A-Za-z0-9_]*)\",\" \", tweet_tokens[i])\n",
        "        # make lower\n",
        "        tweet_tokens[i] = tweet_tokens[i].lower()\n",
        "        tweet_tokens[i] = re.sub('\\brt\\b', ' ', tweet_tokens[i])\n",
        "        tweet_tokens[i] = re.sub('[^\\w\\s]', ' ', tweet_tokens[i])\n",
        "    return tweet_tokens"
      ],
      "execution_count": null,
      "outputs": []
    },
    {
      "cell_type": "code",
      "metadata": {
        "id": "EK6M32qOwaW9"
      },
      "source": [
        "no_noise = remove_noise(no_contract)"
      ],
      "execution_count": null,
      "outputs": []
    },
    {
      "cell_type": "code",
      "metadata": {
        "colab": {
          "base_uri": "https://localhost:8080/",
          "height": 34
        },
        "id": "MU5xXzIPwso1",
        "outputId": "46c06a9b-cb0f-4d2c-adb3-5705612b03e9"
      },
      "source": [
        "no_noise[0]"
      ],
      "execution_count": null,
      "outputs": [
        {
          "output_type": "execute_result",
          "data": {
            "application/vnd.google.colaboratory.intrinsic+json": {
              "type": "string"
            },
            "text/plain": [
              "'      awww  that is a bummer   you shoulda got david carr of third day to do it   d'"
            ]
          },
          "metadata": {
            "tags": []
          },
          "execution_count": 22
        }
      ]
    },
    {
      "cell_type": "code",
      "metadata": {
        "id": "imSxfJKqt9qm"
      },
      "source": [
        "tokenizer = RegexpTokenizer(r'\\w+|[^\\w\\s]+')\n",
        "tokenized = [tokenizer.tokenize(each) for each in no_noise]"
      ],
      "execution_count": null,
      "outputs": []
    },
    {
      "cell_type": "code",
      "metadata": {
        "colab": {
          "base_uri": "https://localhost:8080/"
        },
        "id": "EpVKQAVbxWn_",
        "outputId": "6f2338d5-5405-42b2-eebd-8804d0c477fd"
      },
      "source": [
        "tokenized[2229560]"
      ],
      "execution_count": null,
      "outputs": [
        {
          "output_type": "execute_result",
          "data": {
            "text/plain": [
              "['tall', 'glass', 'of', 'water', 'by', 'tim', 'darcy', 'nowplaying', 'beats1']"
            ]
          },
          "metadata": {
            "tags": []
          },
          "execution_count": 27
        }
      ]
    },
    {
      "cell_type": "code",
      "metadata": {
        "colab": {
          "base_uri": "https://localhost:8080/"
        },
        "id": "Sg_lyIn4x-ny",
        "outputId": "294b8c0d-f850-4906-ad7a-e1fc7f7ad607"
      },
      "source": [
        "nltk.download('stopwords')"
      ],
      "execution_count": null,
      "outputs": [
        {
          "output_type": "stream",
          "text": [
            "[nltk_data] Downloading package stopwords to /root/nltk_data...\n",
            "[nltk_data]   Unzipping corpora/stopwords.zip.\n"
          ],
          "name": "stdout"
        },
        {
          "output_type": "execute_result",
          "data": {
            "text/plain": [
              "True"
            ]
          },
          "metadata": {
            "tags": []
          },
          "execution_count": 29
        }
      ]
    },
    {
      "cell_type": "code",
      "metadata": {
        "id": "fWsR7Slfx6Jh"
      },
      "source": [
        "stop_words=set(stopwords.words('english'))\n",
        "stop_words.remove('not')"
      ],
      "execution_count": null,
      "outputs": []
    },
    {
      "cell_type": "code",
      "metadata": {
        "id": "kfh6s094yOld"
      },
      "source": [
        "def remove_stopwords(X):\n",
        "  X_without_stopwords = []\n",
        "  for sentence in X:\n",
        "    temp = [word for word in sentence if not word in stop_words]\n",
        "    X_without_stopwords.append(temp) \n",
        "\n",
        "  return X_without_stopwords"
      ],
      "execution_count": null,
      "outputs": []
    },
    {
      "cell_type": "code",
      "metadata": {
        "id": "fNg8fFsXyR2S"
      },
      "source": [
        "no_stop = remove_stopwords(tokenized)"
      ],
      "execution_count": null,
      "outputs": []
    },
    {
      "cell_type": "code",
      "metadata": {
        "colab": {
          "base_uri": "https://localhost:8080/"
        },
        "id": "p_aEDFyOykTi",
        "outputId": "908b0819-5592-491d-fcb0-a276be79dc0d"
      },
      "source": [
        "no_stop[1]"
      ],
      "execution_count": null,
      "outputs": [
        {
          "output_type": "execute_result",
          "data": {
            "text/plain": [
              "['upset',\n",
              " 'not',\n",
              " 'update',\n",
              " 'facebook',\n",
              " 'texting',\n",
              " 'might',\n",
              " 'cry',\n",
              " 'result',\n",
              " 'school',\n",
              " 'today',\n",
              " 'also',\n",
              " 'blah']"
            ]
          },
          "metadata": {
            "tags": []
          },
          "execution_count": 37
        }
      ]
    },
    {
      "cell_type": "code",
      "metadata": {
        "id": "NIqAEFIB8Gy4",
        "colab": {
          "base_uri": "https://localhost:8080/"
        },
        "outputId": "0ddfefbc-bfb2-4869-b4b0-8064380b2949"
      },
      "source": [
        "#Lemmatization\n",
        "nlp = spacy.load('en_core_web_sm', disable=['tagger', 'parser', 'ner'])    \n",
        "\n",
        "lengths = np.cumsum([0] + list(map(len, no_stop)))\n",
        "print(lengths)\n",
        "\n",
        "flat_words = [item for sublist in no_stop for item in sublist]\n",
        "doc = spacy.tokens.Doc(nlp.vocab, words=flat_words)\n",
        "\n",
        "lemmatized = []\n",
        "# Iterate starting with 1\n",
        "for index in range(1, len(lengths)):\n",
        "    # Slice doc as described in the first point, so [0:3] and [3:6]\n",
        "    span = doc[lengths[index - 1] : lengths[index]]\n",
        "    # Add lemmatized tokens as list to the list\n",
        "    lemmatized.append([token.lemma_ for token in span])\n",
        "\n",
        "print(lemmatized[0])"
      ],
      "execution_count": null,
      "outputs": [
        {
          "output_type": "stream",
          "text": [
            "[       0        8       20 ... 16913777 16913784 16913795]\n",
            "['awww', 'bummer', 'shoulda', 'get', 'david', 'carr', '3', 'day']\n"
          ],
          "name": "stdout"
        }
      ]
    },
    {
      "cell_type": "code",
      "metadata": {
        "id": "LzFM2p-WzeJN"
      },
      "source": [
        "with open('/content/drive/MyDrive/newlemm.pickle', 'wb') as handle:\n",
        "  pickle.dump(lemmatized, handle)"
      ],
      "execution_count": null,
      "outputs": []
    },
    {
      "cell_type": "code",
      "metadata": {
        "id": "cUNMhcN88cgt"
      },
      "source": [
        "clean_td = []\n",
        "\n",
        "for sentence in lemmatized:\n",
        "  temp = \" \".join(sentence)\n",
        "  clean_td.append(temp)"
      ],
      "execution_count": null,
      "outputs": []
    },
    {
      "cell_type": "code",
      "metadata": {
        "id": "s-M1D94P8e3r"
      },
      "source": [
        "max_vocab = 400000"
      ],
      "execution_count": null,
      "outputs": []
    },
    {
      "cell_type": "code",
      "metadata": {
        "id": "SHkcWth28hBz"
      },
      "source": [
        "tokenizer = Tokenizer(num_words=max_vocab)\n",
        "tokenizer.fit_on_texts(clean_td)"
      ],
      "execution_count": null,
      "outputs": []
    },
    {
      "cell_type": "code",
      "metadata": {
        "id": "bBqs8OX7QBnH"
      },
      "source": [
        "with open('/content/drive/MyDrive/newtokenizer.pickle', 'wb') as handle:\n",
        "    pickle.dump(tokenizer, handle)"
      ],
      "execution_count": null,
      "outputs": []
    },
    {
      "cell_type": "code",
      "metadata": {
        "id": "7WkgwAtc8iPc"
      },
      "source": [
        "clean_vectorized=tokenizer.texts_to_sequences(clean_td)"
      ],
      "execution_count": null,
      "outputs": []
    },
    {
      "cell_type": "code",
      "metadata": {
        "id": "tYzZcs4J8jPM"
      },
      "source": [
        "max_length = 25"
      ],
      "execution_count": null,
      "outputs": []
    },
    {
      "cell_type": "code",
      "metadata": {
        "colab": {
          "base_uri": "https://localhost:8080/"
        },
        "id": "5FU4w9Uu8kiL",
        "outputId": "c0a5b6a9-6b34-495e-cb7f-5d1b54b9387f"
      },
      "source": [
        "clean_pad = keras.preprocessing.sequence.pad_sequences(clean_vectorized,max_length,padding='post',\n",
        "                                                         truncating='post')\n",
        "\n",
        "print(clean_pad.shape)"
      ],
      "execution_count": null,
      "outputs": [
        {
          "output_type": "stream",
          "text": [
            "(2229562, 25)\n"
          ],
          "name": "stdout"
        }
      ]
    },
    {
      "cell_type": "code",
      "metadata": {
        "colab": {
          "base_uri": "https://localhost:8080/"
        },
        "id": "J1N2bjZa8l1d",
        "outputId": "14718d58-81b8-4cdf-88a0-7fd5c385f8b0"
      },
      "source": [
        "# Visualize pre-processed data\n",
        "\n",
        "index  = 1  # index in range [0,1599999]\n",
        "\n",
        "print('\\nOriginal :')\n",
        "print(tweets_data[index])\n",
        "print('\\nTokenized :')\n",
        "print(tokenized[index])\n",
        "print('\\nLemmatized :')\n",
        "print(lemmatized[index])\n",
        "print('\\nClean :')\n",
        "print(clean_td[index])\n",
        "print('\\nVectorized :')\n",
        "print(clean_vectorized[index])\n",
        "print('\\nPadded :')\n",
        "print(clean_pad[index])"
      ],
      "execution_count": null,
      "outputs": [
        {
          "output_type": "stream",
          "text": [
            "\n",
            "Original :\n",
            "is upset that he can't update his Facebook by texting it... and might cry as a result  School today also. Blah!\n",
            "\n",
            "Tokenized :\n",
            "['is', 'upset', 'that', 'he', 'can', 'not', 'update', 'his', 'facebook', 'by', 'texting', 'it', 'and', 'might', 'cry', 'as', 'a', 'result', 'school', 'today', 'also', 'blah']\n",
            "\n",
            "Lemmatized :\n",
            "['upset', 'not', 'update', 'facebook', 'texting', 'may', 'cry', 'result', 'school', 'today', 'also', 'blah']\n",
            "\n",
            "Clean :\n",
            "upset not update facebook texting may cry result school today also blah\n",
            "\n",
            "Vectorized :\n",
            "[834, 1, 141, 376, 2400, 106, 313, 844, 82, 12, 222, 1421]\n",
            "\n",
            "Padded :\n",
            "[ 834    1  141  376 2400  106  313  844   82   12  222 1421    0    0\n",
            "    0    0    0    0    0    0    0    0    0    0    0]\n"
          ],
          "name": "stdout"
        }
      ]
    },
    {
      "cell_type": "code",
      "metadata": {
        "id": "C9mQdlt783J-"
      },
      "source": [
        "# (0 = negative, 2 = neutral, 4 = positive) ==> (0 = negative, 1 = neutral, 2 = positive)\n",
        "for idx in range(len(label_data)):\n",
        "    if label_data[idx] == 2:\n",
        "        label_data[idx] = 1\n",
        "    elif label_data[idx] == 4:\n",
        "        label_data[idx] = 2"
      ],
      "execution_count": null,
      "outputs": []
    },
    {
      "cell_type": "code",
      "metadata": {
        "colab": {
          "base_uri": "https://localhost:8080/"
        },
        "id": "j2-VW-Lw84o3",
        "outputId": "d6c1df41-ede7-4882-9fed-a360cc8e825f"
      },
      "source": [
        "X_train, X_test, Y_train, Y_test = train_test_split(clean_pad,label_data.reshape(label_data.shape[0],1),test_size=0.30)\n",
        "\n",
        "print(X_train.shape)\n",
        "print(X_test.shape)\n",
        "print(Y_train.shape)\n",
        "print(Y_test.shape)"
      ],
      "execution_count": null,
      "outputs": [
        {
          "output_type": "stream",
          "text": [
            "(1560693, 25)\n",
            "(668869, 25)\n",
            "(1560693, 1)\n",
            "(668869, 1)\n"
          ],
          "name": "stdout"
        }
      ]
    },
    {
      "cell_type": "code",
      "metadata": {
        "id": "kUY-1biQXLFg"
      },
      "source": [
        "# pickle\n",
        "\n",
        "with open('/content/drive/MyDrive/newfsacd_x_train.pickle', 'wb') as handle:\n",
        "    pickle.dump(X_train, handle)\n",
        "\n",
        "with open('/content/drive/MyDrive/newfsacd_x_test.pickle', 'wb') as handle:\n",
        "    pickle.dump(X_test, handle)\n",
        "    \n",
        "with open('/content/drive/MyDrive/newfsacd_y_train.pickle', 'wb') as handle:\n",
        "    pickle.dump(Y_train, handle)\n",
        "    \n",
        "with open('/content/drive/MyDrive/newfsacd_y_test.pickle', 'wb') as handle:\n",
        "    pickle.dump(Y_test, handle)"
      ],
      "execution_count": null,
      "outputs": []
    },
    {
      "cell_type": "code",
      "metadata": {
        "id": "BfynlJq08nJU"
      },
      "source": [
        "# Load Pre-trained Word embeddings\n",
        "embedding_path = '/content/drive/MyDrive/glove.6B.300d.txt'\n",
        "\n",
        "embeddings_index = dict()\n",
        "f = open(embedding_path, encoding='utf8')\n",
        "for line in f:\n",
        "\tvalues = line.split()\n",
        "\tword = values[0]\n",
        "\tcoefs = np.asarray(values[1:], dtype='float32')\n",
        "\tembeddings_index[word] = coefs\n",
        "f.close()\n",
        "\n",
        "# Create Word Embedding Matrix\n",
        "\n",
        "embedding_matrix = np.zeros((max_vocab, 300))\n",
        "for i in range(1,max_vocab):\n",
        "\tembedding_vector = embeddings_index.get(tokenizer.index_word[i])\n",
        "\tif embedding_vector is not None:\n",
        "\t\tembedding_matrix[i] = embedding_vector"
      ],
      "execution_count": null,
      "outputs": []
    },
    {
      "cell_type": "code",
      "metadata": {
        "id": "XvvD3PYcnYI2"
      },
      "source": [
        "with open('/content/drive/MyDrive/embmat.pickle', 'wb') as handle:\n",
        "    pickle.dump(embedding_matrix, handle)"
      ],
      "execution_count": null,
      "outputs": []
    }
  ]
}