{
  "nbformat": 4,
  "nbformat_minor": 0,
  "metadata": {
    "colab": {
      "name": "train_2l_lstm_pred_w_contract.ipynb",
      "provenance": [],
      "collapsed_sections": []
    },
    "kernelspec": {
      "name": "python3",
      "display_name": "Python 3"
    },
    "language_info": {
      "name": "python"
    }
  },
  "cells": [
    {
      "cell_type": "code",
      "metadata": {
        "colab": {
          "base_uri": "https://localhost:8080/"
        },
        "id": "-ejRINN9fdh9",
        "outputId": "6f6fb674-a1ee-44db-8b60-d507a0b9cabb"
      },
      "source": [
        "!pip install contractions\n",
        "nltk.download('averaged_perceptron_tagger')\n",
        "nltk.download('wordnet')\n",
        "nltk.download('stopwords')"
      ],
      "execution_count": null,
      "outputs": [
        {
          "output_type": "stream",
          "text": [
            "Requirement already satisfied: contractions in /usr/local/lib/python3.7/dist-packages (0.0.49)\n",
            "Requirement already satisfied: textsearch>=0.0.21 in /usr/local/lib/python3.7/dist-packages (from contractions) (0.0.21)\n",
            "Requirement already satisfied: anyascii in /usr/local/lib/python3.7/dist-packages (from textsearch>=0.0.21->contractions) (0.2.0)\n",
            "Requirement already satisfied: pyahocorasick in /usr/local/lib/python3.7/dist-packages (from textsearch>=0.0.21->contractions) (1.4.2)\n",
            "[nltk_data] Downloading package averaged_perceptron_tagger to\n",
            "[nltk_data]     /root/nltk_data...\n",
            "[nltk_data]   Unzipping taggers/averaged_perceptron_tagger.zip.\n",
            "[nltk_data] Downloading package wordnet to /root/nltk_data...\n",
            "[nltk_data]   Unzipping corpora/wordnet.zip.\n",
            "[nltk_data] Downloading package stopwords to /root/nltk_data...\n",
            "[nltk_data]   Unzipping corpora/stopwords.zip.\n"
          ],
          "name": "stdout"
        },
        {
          "output_type": "execute_result",
          "data": {
            "text/plain": [
              "True"
            ]
          },
          "metadata": {
            "tags": []
          },
          "execution_count": 3
        }
      ]
    },
    {
      "cell_type": "code",
      "metadata": {
        "id": "gYLqvV98QPo1"
      },
      "source": [
        "import pickle\n",
        "import numpy as np\n",
        "import nltk\n",
        "import re\n",
        "import keras\n",
        "import contractions\n",
        "\n",
        "from nltk.corpus import stopwords\n",
        "from nltk.tokenize import RegexpTokenizer\n",
        "from nltk.stem import WordNetLemmatizer\n",
        "from nltk.tag import pos_tag\n",
        "\n",
        "import string\n",
        "import contractions\n",
        "import spacy\n",
        "from sklearn.metrics import confusion_matrix\n",
        "from sklearn.metrics import ConfusionMatrixDisplay"
      ],
      "execution_count": null,
      "outputs": []
    },
    {
      "cell_type": "code",
      "metadata": {
        "id": "nBXGrUuPY52P"
      },
      "source": [
        "from keras.preprocessing.sequence import pad_sequences"
      ],
      "execution_count": null,
      "outputs": []
    },
    {
      "cell_type": "code",
      "metadata": {
        "id": "eiOJtTNVdEHM"
      },
      "source": [
        "#remove contractions\n",
        "def fix_contractions(tweets):\n",
        "  no_contract = []\n",
        "  for item in range(len(tweets)):\n",
        "    try:\n",
        "      no_contract.append(contractions.fix(tweets[item]))\n",
        "    except IndexError:\n",
        "      pass\n",
        "  return no_contract"
      ],
      "execution_count": null,
      "outputs": []
    },
    {
      "cell_type": "code",
      "metadata": {
        "id": "WTFyorsGeP5c"
      },
      "source": [
        "def remove_noise(tweet_tokens):\n",
        "    # remove hyperlinks, special characters, emojis, punctuations\n",
        "    \n",
        "    for i in range(len(tweet_tokens)):\n",
        "        tweet_tokens[i] = re.sub('http[s]?://(?:[a-zA-Z]|[0-9]|[$-_@.&+#]|[!*\\(\\),]|'\\\n",
        "                           '(?:%[0-9a-fA-F][0-9a-fA-F]))*', ' ', tweet_tokens[i])\n",
        "        # Remove twitter handles\n",
        "        tweet_tokens[i] = re.sub(\"(@[A-Za-z0-9_]*)\",\" \", tweet_tokens[i])\n",
        "        # make lower\n",
        "        tweet_tokens[i] = tweet_tokens[i].lower()\n",
        "        tweet_tokens[i] = re.sub('\\brt\\b', ' ', tweet_tokens[i])\n",
        "        tweet_tokens[i] = re.sub('[^\\w\\s]', ' ', tweet_tokens[i])\n",
        "    return tweet_tokens"
      ],
      "execution_count": null,
      "outputs": []
    },
    {
      "cell_type": "code",
      "metadata": {
        "id": "U7l0X7DmeZCj"
      },
      "source": [
        "def tokenise(tweet):\n",
        "  tokenizer = RegexpTokenizer(r'\\w+|[^\\w\\s]+')\n",
        "  tokenized = [tokenizer.tokenize(each) for each in tweet]\n",
        "  return tokenized"
      ],
      "execution_count": null,
      "outputs": []
    },
    {
      "cell_type": "code",
      "metadata": {
        "id": "uXS7IWRChCvg"
      },
      "source": [
        "stop_words=set(stopwords.words('english'))\n",
        "stop_words.remove('not')"
      ],
      "execution_count": null,
      "outputs": []
    },
    {
      "cell_type": "code",
      "metadata": {
        "id": "cpqdo-3veqy7"
      },
      "source": [
        "def remove_stopwords(X):\n",
        "  X_without_stopwords = []\n",
        "  for sentence in X:\n",
        "    temp = [word for word in sentence if not word in stop_words]\n",
        "    X_without_stopwords.append(temp) \n",
        "\n",
        "  return X_without_stopwords"
      ],
      "execution_count": null,
      "outputs": []
    },
    {
      "cell_type": "code",
      "metadata": {
        "id": "ZL7Ri9hhevV9"
      },
      "source": [
        "def lemmatize(tweet):\n",
        "  #Lemmatization\n",
        "  nlp = spacy.load('en_core_web_sm', disable=['tagger', 'parser', 'ner'])    \n",
        "\n",
        "  lengths = np.cumsum([0] + list(map(len, tweet)))\n",
        "\n",
        "  flat_words = [item for sublist in tweet for item in sublist]\n",
        "  doc = spacy.tokens.Doc(nlp.vocab, words=flat_words)\n",
        "\n",
        "  lemmatized = []\n",
        "  # Iterate starting with 1\n",
        "  for index in range(1, len(lengths)):\n",
        "      # Slice doc as described in the first point, so [0:3] and [3:6]\n",
        "      span = doc[lengths[index - 1] : lengths[index]]\n",
        "      # Add lemmatized tokens as list to the list\n",
        "      lemmatized.append([token.lemma_ for token in span])\n",
        "\n",
        "  return lemmatized"
      ],
      "execution_count": null,
      "outputs": []
    },
    {
      "cell_type": "code",
      "metadata": {
        "id": "s9sL3r1zfI_9"
      },
      "source": [
        "def clean_vec_pad(tweet):\n",
        "  clean_lem = []\n",
        "\n",
        "  for sentence in tweet:\n",
        "    temp = \" \".join(sentence)\n",
        "    clean_lem.append(temp)\n",
        "\n",
        "  ltcleanvectorized=tokenizer.texts_to_sequences(clean_lem)\n",
        "\n",
        "  ltcleanpad = pad_sequences(ltcleanvectorized, max_length,padding='post',\n",
        "                                                         truncating='post')\n",
        "  \n",
        "  return ltcleanpad\n"
      ],
      "execution_count": null,
      "outputs": []
    },
    {
      "cell_type": "code",
      "metadata": {
        "id": "HsDC6LPMSArM"
      },
      "source": [
        "with open('/content/drive/MyDrive/newtokenizer.pickle', 'rb') as handle:\n",
        "  tokenizer = pickle.load(handle)\n",
        "\n",
        "# only for confusion matrix, else not needed\n",
        "with open('/content/drive/MyDrive/newfsacd_x_test.pickle', 'rb') as handle:\n",
        "  X_test = pickle.load(handle)\n",
        "\n",
        "with open('/content/drive/MyDrive/newfsacd_y_test.pickle', 'rb') as handle:\n",
        "  Y_test = pickle.load(handle)"
      ],
      "execution_count": null,
      "outputs": []
    },
    {
      "cell_type": "code",
      "metadata": {
        "id": "KN_B7vpGSNhL"
      },
      "source": [
        "model = keras.models.load_model('/content/drive/MyDrive/contract_newfsact_lstm2l_w_neu')"
      ],
      "execution_count": null,
      "outputs": []
    },
    {
      "cell_type": "code",
      "metadata": {
        "id": "zVRI1HipaQbc"
      },
      "source": [
        "max_length=25\n",
        "labels = [\"Negative\", \"Neutral\", \"Positive\"]"
      ],
      "execution_count": null,
      "outputs": []
    },
    {
      "cell_type": "code",
      "metadata": {
        "id": "Awqf-RwHRzQD"
      },
      "source": [
        "# prediction\n",
        "\n",
        "def sentiment_predict(text):\n",
        "  print(text)\n",
        "  fc = fix_contractions(text)\n",
        "  print(fc)\n",
        "  rm = remove_noise(fc)\n",
        "  print(rm)\n",
        "  tk = tokenise(rm)\n",
        "  print(tk)\n",
        "  sw = remove_stopwords(tk)\n",
        "  print(sw)\n",
        "  lm = lemmatize(sw)\n",
        "  print(lm)\n",
        "  pd = clean_vec_pad(lm)\n",
        "  return model.predict(pd)\n",
        "\n",
        "  #predicted = model.predict(pd)"
      ],
      "execution_count": null,
      "outputs": []
    },
    {
      "cell_type": "code",
      "metadata": {
        "id": "qeNgxG1hZwk1"
      },
      "source": [
        "test_text = [\"Donald Trump is back!\"]"
      ],
      "execution_count": null,
      "outputs": []
    },
    {
      "cell_type": "code",
      "metadata": {
        "colab": {
          "base_uri": "https://localhost:8080/"
        },
        "id": "Ri-HQsqKgu98",
        "outputId": "cca60954-6a3f-43c5-cc73-35606a5f0941"
      },
      "source": [
        "out = sentiment_predict(test_text)"
      ],
      "execution_count": null,
      "outputs": [
        {
          "output_type": "stream",
          "text": [
            "['Donald Trump is back!']\n",
            "['Donald Trump is back!']\n",
            "['donald trump is back ']\n",
            "[['donald', 'trump', 'is', 'back']]\n",
            "[['donald', 'trump', 'back']]\n",
            "[['donald', 'trump', 'back']]\n"
          ],
          "name": "stdout"
        }
      ]
    },
    {
      "cell_type": "code",
      "metadata": {
        "colab": {
          "base_uri": "https://localhost:8080/"
        },
        "id": "d5zWpI6tZ_H8",
        "outputId": "124e1c99-3023-47ad-95bb-f6e7bceb2f33"
      },
      "source": [
        "print(labels[np.argmax(out)])"
      ],
      "execution_count": null,
      "outputs": [
        {
          "output_type": "stream",
          "text": [
            "Neutral\n"
          ],
          "name": "stdout"
        }
      ]
    },
    {
      "cell_type": "code",
      "metadata": {
        "id": "swjwI6vlZW88"
      },
      "source": [
        "ref = []\n",
        "for test in Y_test:\n",
        "  ref.append(test[0])"
      ],
      "execution_count": null,
      "outputs": []
    },
    {
      "cell_type": "code",
      "metadata": {
        "id": "GLZLlNLVTPD8"
      },
      "source": [
        "y_preds = model.predict(X_test)"
      ],
      "execution_count": null,
      "outputs": []
    },
    {
      "cell_type": "code",
      "metadata": {
        "id": "XBms2GpWYU4s"
      },
      "source": [
        "test = []\n",
        "for i in y_preds:\n",
        "  test.append(np.argmax(i))"
      ],
      "execution_count": null,
      "outputs": []
    },
    {
      "cell_type": "code",
      "metadata": {
        "colab": {
          "base_uri": "https://localhost:8080/",
          "height": 295
        },
        "id": "Q8V2bxYwTMoD",
        "outputId": "30c6333a-5f1b-458b-d7a0-782868d9db8f"
      },
      "source": [
        "# plot confusion matrix\n",
        "cm = confusion_matrix(y_true = ref, y_pred=test)\n",
        "disp = ConfusionMatrixDisplay(confusion_matrix=cm, display_labels=labels)\n",
        "disp.plot(values_format='')"
      ],
      "execution_count": null,
      "outputs": [
        {
          "output_type": "execute_result",
          "data": {
            "text/plain": [
              "<sklearn.metrics._plot.confusion_matrix.ConfusionMatrixDisplay at 0x7f26cda345d0>"
            ]
          },
          "metadata": {
            "tags": []
          },
          "execution_count": 30
        },
        {
          "output_type": "display_data",
          "data": {
            "image/png": "[encoded data removed]",
            "text/plain": [
              "<Figure size 432x288 with 2 Axes>"
            ]
          },
          "metadata": {
            "tags": [],
            "needs_background": "light"
          }
        }
      ]
    },
    {
      "cell_type": "code",
      "metadata": {
        "id": "C5NV58X4dDAW"
      },
      "source": [
        "from sklearn.metrics import precision_recall_fscore_support"
      ],
      "execution_count": null,
      "outputs": []
    },
    {
      "cell_type": "code",
      "metadata": {
        "colab": {
          "base_uri": "https://localhost:8080/"
        },
        "id": "UieohUogdDv8",
        "outputId": "8dcc39a7-244b-4e14-b532-8b7828099fdb"
      },
      "source": [
        "precision_recall_fscore_support(ref, test, labels=[0, 1, 2])"
      ],
      "execution_count": null,
      "outputs": [
        {
          "output_type": "execute_result",
          "data": {
            "text/plain": [
              "(array([0.79510044, 0.93487178, 0.75287708]),\n",
              " array([0.77250473, 0.92484115, 0.78069114]),\n",
              " array([0.78363973, 0.92982941, 0.76653188]),\n",
              " array([240194, 189013, 239662]))"
            ]
          },
          "metadata": {
            "tags": []
          },
          "execution_count": 34
        }
      ]
    }
  ]
}