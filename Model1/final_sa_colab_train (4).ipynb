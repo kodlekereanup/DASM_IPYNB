{
  "nbformat": 4,
  "nbformat_minor": 0,
  "metadata": {
    "colab": {
      "name": "final_sa_colab_train.ipynb",
      "provenance": [],
      "collapsed_sections": []
    },
    "kernelspec": {
      "name": "python3",
      "display_name": "Python 3"
    },
    "language_info": {
      "name": "python"
    },
    "accelerator": "GPU"
  },
  "cells": [
    {
      "cell_type": "code",
      "metadata": {
        "id": "ZzlJiOr0W7YX"
      },
      "source": [
        "import keras\n",
        "import pickle\n",
        "import numpy as np\n",
        "import matplotlib.pyplot as plt\n",
        "from keras.preprocessing.text import Tokenizer\n",
        "from keras.layers import Dense, Dropout, LSTM, Embedding, Bidirectional, InputLayer"
      ],
      "execution_count": null,
      "outputs": []
    },
    {
      "cell_type": "code",
      "metadata": {
        "id": "jrn5HgScW3dn"
      },
      "source": [
        "max_vocab=400000\n",
        "max_length=30"
      ],
      "execution_count": null,
      "outputs": []
    },
    {
      "cell_type": "code",
      "metadata": {
        "id": "02gOrgfJX2hB"
      },
      "source": [
        "with open('/content/drive/MyDrive/fsacd_x_train.pickle', 'rb') as handle:\n",
        "    X_train = pickle.load(handle)\n",
        "\n",
        "with open('/content/drive/MyDrive/fsacd_x_test.pickle', 'rb') as handle:\n",
        "    X_test = pickle.load(handle)\n",
        "    \n",
        "with open('/content/drive/MyDrive/fsacd_y_train.pickle', 'rb') as handle:\n",
        "    Y_train = pickle.load(handle)\n",
        "    \n",
        "with open('/content/drive/MyDrive/fsacd_y_test.pickle', 'rb') as handle:\n",
        "    Y_test = pickle.load(handle)\n",
        "\n",
        "with open('/content/drive/MyDrive/embmat.pickle', 'rb') as handle:\n",
        "    embedding_matrix = pickle.load(handle)\n"
      ],
      "execution_count": null,
      "outputs": []
    },
    {
      "cell_type": "code",
      "metadata": {
        "id": "48VQV6YzW2_g"
      },
      "source": [
        "model = keras.models.Sequential()\n",
        "\n",
        "model.add(InputLayer(input_shape=(max_length)))\n",
        "model.add(Embedding(max_vocab, 300, weights=[embedding_matrix], input_length=max_length,mask_zero=True, trainable=False))\n",
        "model.add(Bidirectional(LSTM(64)))\n",
        "# model.add(Bidirectional(LSTM(32)))\n",
        "model.add(Dense(64, activation='relu'))\n",
        "model.add(Dropout(0.5))\n",
        "model.add(Dense(3, activation='softmax'))"
      ],
      "execution_count": null,
      "outputs": []
    },
    {
      "cell_type": "code",
      "metadata": {
        "id": "1X2wSwWpX9Pg"
      },
      "source": [
        "# Compile the Model\n",
        "\n",
        "model.compile(keras.optimizers.Adam(lr=0.0001),loss='sparse_categorical_crossentropy',\n",
        "                metrics=['accuracy'])"
      ],
      "execution_count": null,
      "outputs": []
    },
    {
      "cell_type": "code",
      "metadata": {
        "colab": {
          "base_uri": "https://localhost:8080/"
        },
        "id": "Um5jDQxwYCmw",
        "outputId": "479ba4c3-9b48-4d99-f21a-3566a54af365"
      },
      "source": [
        "history_model = model.fit(X_train,Y_train, batch_size=128, epochs=20,validation_split=0.05, verbose=True)"
      ],
      "execution_count": null,
      "outputs": [
        {
          "output_type": "stream",
          "text": [
            "Epoch 1/20\n",
            "11584/11584 [==============================] - 460s 39ms/step - loss: 0.6387 - accuracy: 0.7098 - val_loss: 0.4806 - val_accuracy: 0.7880\n",
            "Epoch 2/20\n",
            "11584/11584 [==============================] - 419s 36ms/step - loss: 0.4874 - accuracy: 0.7900 - val_loss: 0.4518 - val_accuracy: 0.8018\n",
            "Epoch 3/20\n",
            "11584/11584 [==============================] - 412s 36ms/step - loss: 0.4585 - accuracy: 0.8040 - val_loss: 0.4357 - val_accuracy: 0.8106\n",
            "Epoch 4/20\n",
            "11584/11584 [==============================] - 405s 35ms/step - loss: 0.4424 - accuracy: 0.8121 - val_loss: 0.4233 - val_accuracy: 0.8168\n",
            "Epoch 5/20\n",
            "11584/11584 [==============================] - 403s 35ms/step - loss: 0.4316 - accuracy: 0.8166 - val_loss: 0.4228 - val_accuracy: 0.8164\n",
            "Epoch 6/20\n",
            "11584/11584 [==============================] - 402s 35ms/step - loss: 0.4233 - accuracy: 0.8203 - val_loss: 0.4178 - val_accuracy: 0.8195\n",
            "Epoch 7/20\n",
            "11584/11584 [==============================] - 402s 35ms/step - loss: 0.4165 - accuracy: 0.8236 - val_loss: 0.4122 - val_accuracy: 0.8216\n",
            "Epoch 8/20\n",
            "11584/11584 [==============================] - 411s 36ms/step - loss: 0.4105 - accuracy: 0.8263 - val_loss: 0.4076 - val_accuracy: 0.8231\n",
            "Epoch 9/20\n",
            "11584/11584 [==============================] - 407s 35ms/step - loss: 0.4059 - accuracy: 0.8281 - val_loss: 0.4082 - val_accuracy: 0.8247\n",
            "Epoch 10/20\n",
            "11584/11584 [==============================] - 408s 35ms/step - loss: 0.3996 - accuracy: 0.8308 - val_loss: 0.4094 - val_accuracy: 0.8228\n",
            "Epoch 11/20\n",
            "11584/11584 [==============================] - 406s 35ms/step - loss: 0.3964 - accuracy: 0.8323 - val_loss: 0.4028 - val_accuracy: 0.8263\n",
            "Epoch 12/20\n",
            "11584/11584 [==============================] - 406s 35ms/step - loss: 0.3927 - accuracy: 0.8341 - val_loss: 0.4031 - val_accuracy: 0.8268\n",
            "Epoch 13/20\n",
            "11584/11584 [==============================] - 411s 35ms/step - loss: 0.3890 - accuracy: 0.8357 - val_loss: 0.4025 - val_accuracy: 0.8270\n",
            "Epoch 14/20\n",
            "11584/11584 [==============================] - 411s 35ms/step - loss: 0.3862 - accuracy: 0.8362 - val_loss: 0.4001 - val_accuracy: 0.8273\n",
            "Epoch 15/20\n",
            "11584/11584 [==============================] - 408s 35ms/step - loss: 0.3821 - accuracy: 0.8384 - val_loss: 0.4010 - val_accuracy: 0.8281\n",
            "Epoch 16/20\n",
            "11584/11584 [==============================] - 401s 35ms/step - loss: 0.3796 - accuracy: 0.8392 - val_loss: 0.4021 - val_accuracy: 0.8271\n",
            "Epoch 17/20\n",
            "11584/11584 [==============================] - 403s 35ms/step - loss: 0.3766 - accuracy: 0.8407 - val_loss: 0.3989 - val_accuracy: 0.8296\n",
            "Epoch 18/20\n",
            "11584/11584 [==============================] - 405s 35ms/step - loss: 0.3743 - accuracy: 0.8414 - val_loss: 0.3975 - val_accuracy: 0.8299\n",
            "Epoch 19/20\n",
            "11584/11584 [==============================] - 404s 35ms/step - loss: 0.3711 - accuracy: 0.8434 - val_loss: 0.4042 - val_accuracy: 0.8270\n",
            "Epoch 20/20\n",
            "11584/11584 [==============================] - 410s 35ms/step - loss: 0.3693 - accuracy: 0.8434 - val_loss: 0.3988 - val_accuracy: 0.8302\n"
          ],
          "name": "stdout"
        }
      ]
    },
    {
      "cell_type": "code",
      "metadata": {
        "colab": {
          "base_uri": "https://localhost:8080/"
        },
        "id": "Hdr6ulpZpHqX",
        "outputId": "0c596f98-b456-4cd9-97f4-c1cce6e10e0b"
      },
      "source": [
        "model.save('/content/drive/MyDrive/fsact_lstm_w_neu')"
      ],
      "execution_count": null,
      "outputs": [
        {
          "output_type": "stream",
          "text": [
            "WARNING:absl:Found untraced functions such as lstm_cell_1_layer_call_and_return_conditional_losses, lstm_cell_1_layer_call_fn, lstm_cell_2_layer_call_and_return_conditional_losses, lstm_cell_2_layer_call_fn, lstm_cell_1_layer_call_fn while saving (showing 5 of 10). These functions will not be directly callable after loading.\n",
            "WARNING:absl:Found untraced functions such as lstm_cell_1_layer_call_and_return_conditional_losses, lstm_cell_1_layer_call_fn, lstm_cell_2_layer_call_and_return_conditional_losses, lstm_cell_2_layer_call_fn, lstm_cell_1_layer_call_fn while saving (showing 5 of 10). These functions will not be directly callable after loading.\n"
          ],
          "name": "stderr"
        },
        {
          "output_type": "stream",
          "text": [
            "INFO:tensorflow:Assets written to: /content/drive/MyDrive/fsact_lstm_w_neu/assets\n"
          ],
          "name": "stdout"
        },
        {
          "output_type": "stream",
          "text": [
            "INFO:tensorflow:Assets written to: /content/drive/MyDrive/fsact_lstm_w_neu/assets\n"
          ],
          "name": "stderr"
        }
      ]
    },
    {
      "cell_type": "code",
      "metadata": {
        "id": "1JR4_-iCO8a9"
      },
      "source": [
        "# Calculate No. of epochs\n",
        "n_epochs=len(history_model.history['loss'])\n",
        "e = list(range(1,n_epochs+1))"
      ],
      "execution_count": null,
      "outputs": []
    },
    {
      "cell_type": "code",
      "metadata": {
        "colab": {
          "base_uri": "https://localhost:8080/",
          "height": 295
        },
        "id": "LdwMH-GYO_us",
        "outputId": "1149b928-8309-4dc5-c189-8c76dfbc49d2"
      },
      "source": [
        "# Training Loss\n",
        "plt.plot(e,history_model.history['loss'],'b')\n",
        "plt.xlabel('Epochs')\n",
        "plt.ylabel('Training Loss')\n",
        "plt.legend()\n",
        "plt.show()"
      ],
      "execution_count": null,
      "outputs": [
        {
          "output_type": "stream",
          "text": [
            "WARNING:matplotlib.legend:No handles with labels found to put in legend.\n"
          ],
          "name": "stderr"
        },
        {
          "output_type": "display_data",
          "data": {
            "image/png": "[encoded data removed]",
            "text/plain": [
              "<Figure size 432x288 with 1 Axes>"
            ]
          },
          "metadata": {
            "tags": [],
            "needs_background": "light"
          }
        }
      ]
    },
    {
      "cell_type": "code",
      "metadata": {
        "colab": {
          "base_uri": "https://localhost:8080/",
          "height": 295
        },
        "id": "JiRlc2WcPBY7",
        "outputId": "dcc7dd9b-17cb-4fed-a699-739e4744237e"
      },
      "source": [
        "# Validation Loss\n",
        "plt.plot(e,history_model.history['val_loss'],'b')\n",
        "plt.xlabel('Epochs')\n",
        "plt.ylabel('Validation Loss')\n",
        "plt.legend()\n",
        "plt.show()"
      ],
      "execution_count": null,
      "outputs": [
        {
          "output_type": "stream",
          "text": [
            "WARNING:matplotlib.legend:No handles with labels found to put in legend.\n"
          ],
          "name": "stderr"
        },
        {
          "output_type": "display_data",
          "data": {
            "image/png": "[encoded data removed]",
            "text/plain": [
              "<Figure size 432x288 with 1 Axes>"
            ]
          },
          "metadata": {
            "tags": [],
            "needs_background": "light"
          }
        }
      ]
    },
    {
      "cell_type": "code",
      "metadata": {
        "colab": {
          "base_uri": "https://localhost:8080/",
          "height": 295
        },
        "id": "4kHl3Y95PHhk",
        "outputId": "1885975f-1826-4bfb-a340-837d5d554899"
      },
      "source": [
        "# Training Accuracy\n",
        "plt.plot(e,history_model.history['accuracy'],'b')\n",
        "plt.xlabel('Epochs')\n",
        "plt.ylabel('Training Accuracy')\n",
        "plt.legend()\n",
        "plt.show()"
      ],
      "execution_count": null,
      "outputs": [
        {
          "output_type": "stream",
          "text": [
            "WARNING:matplotlib.legend:No handles with labels found to put in legend.\n"
          ],
          "name": "stderr"
        },
        {
          "output_type": "display_data",
          "data": {
            "image/png": "[encoded data removed]",
            "text/plain": [
              "<Figure size 432x288 with 1 Axes>"
            ]
          },
          "metadata": {
            "tags": [],
            "needs_background": "light"
          }
        }
      ]
    },
    {
      "cell_type": "code",
      "metadata": {
        "colab": {
          "base_uri": "https://localhost:8080/",
          "height": 295
        },
        "id": "LW24PNerPM90",
        "outputId": "4af02435-950e-4a10-fbf8-0a6fdd91c705"
      },
      "source": [
        "# Validation Accuracy\n",
        "plt.plot(e,history_model.history['val_accuracy'],'b')\n",
        "plt.xlabel('Epochs')\n",
        "plt.ylabel('Validation Accuracy')\n",
        "plt.legend()\n",
        "plt.show()"
      ],
      "execution_count": null,
      "outputs": [
        {
          "output_type": "stream",
          "text": [
            "WARNING:matplotlib.legend:No handles with labels found to put in legend.\n"
          ],
          "name": "stderr"
        },
        {
          "output_type": "display_data",
          "data": {
            "image/png": "[encoded data removed]",
            "text/plain": [
              "<Figure size 432x288 with 1 Axes>"
            ]
          },
          "metadata": {
            "tags": [],
            "needs_background": "light"
          }
        }
      ]
    },
    {
      "cell_type": "code",
      "metadata": {
        "colab": {
          "base_uri": "https://localhost:8080/"
        },
        "id": "EgaHPzcFPPPV",
        "outputId": "31bb7e6a-6b72-42b4-a556-a5440aea535a"
      },
      "source": [
        "model.evaluate(X_test, Y_test)"
      ],
      "execution_count": null,
      "outputs": [
        {
          "output_type": "stream",
          "text": [
            "20903/20903 [==============================] - 119s 6ms/step - loss: 0.4034 - accuracy: 0.8290\n"
          ],
          "name": "stdout"
        },
        {
          "output_type": "execute_result",
          "data": {
            "text/plain": [
              "[0.40344181656837463, 0.8290056586265564]"
            ]
          },
          "metadata": {
            "tags": []
          },
          "execution_count": 13
        }
      ]
    }
  ]
}