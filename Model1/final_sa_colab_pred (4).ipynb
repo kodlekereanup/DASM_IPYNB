{
  "nbformat": 4,
  "nbformat_minor": 0,
  "metadata": {
    "colab": {
      "name": "final_sa_colab_pred.ipynb",
      "provenance": [],
      "collapsed_sections": []
    },
    "kernelspec": {
      "name": "python3",
      "display_name": "Python 3"
    },
    "language_info": {
      "name": "python"
    },
    "accelerator": "GPU"
  },
  "cells": [
    {
      "cell_type": "code",
      "metadata": {
        "id": "gYLqvV98QPo1"
      },
      "source": [
        "import pickle\n",
        "import numpy as np\n",
        "import nltk\n",
        "import re\n",
        "import keras\n",
        "from sklearn.metrics import confusion_matrix\n",
        "from sklearn.metrics import ConfusionMatrixDisplay"
      ],
      "execution_count": null,
      "outputs": []
    },
    {
      "cell_type": "code",
      "metadata": {
        "id": "o_NmoxXpRgNF",
        "cellView": "code"
      },
      "source": [
        "#@title Default title text\n",
        "def tokenize(X):\n",
        "  \"\"\"\n",
        "  Tokenize the data using nltk\n",
        "  \"\"\"\n",
        "\n",
        "  treebank = nltk.tokenize.TreebankWordTokenizer()\n",
        "  X_tokenized=[treebank.tokenize(sentence) for sentence in X]  \n",
        "  return X_tokenized"
      ],
      "execution_count": null,
      "outputs": []
    },
    {
      "cell_type": "code",
      "metadata": {
        "id": "iRBrOM1tRufT"
      },
      "source": [
        "def remove_noise(tweet_tokens, remove_hashtag_word=True):\n",
        "    # remove hyperlinks, special characters, emojis, punctuations\n",
        "    \n",
        "    for i in range(len(tweet_tokens)):\n",
        "        tweet_tokens[i] = re.sub('http[s]?://(?:[a-zA-Z]|[0-9]|[$-_@.&+#]|[!*\\(\\),]|'\\\n",
        "                           '(?:%[0-9a-fA-F][0-9a-fA-F]))*', '', tweet_tokens[i])\n",
        "        # Remove twitter handles\n",
        "        tweet_tokens[i] = re.sub(\"(@[A-Za-z0-9_]*)\",\"\", tweet_tokens[i])\n",
        "        # make lower\n",
        "        tweet_tokens[i] = tweet_tokens[i].lower()\n",
        "        tweet_tokens[i] = re.sub('rt', '', tweet_tokens[i])\n",
        "        tweet_tokens[i] = re.sub('[^\\w\\s]', '', tweet_tokens[i])\n",
        "\n",
        "        if remove_hashtag_word:\n",
        "          pass\n",
        "    return tweet_tokens"
      ],
      "execution_count": null,
      "outputs": []
    },
    {
      "cell_type": "code",
      "metadata": {
        "id": "HQfw2ZfFRwv8"
      },
      "source": [
        "def get_wordnet_pos(treebank_tag):\n",
        "        \"\"\"\n",
        "        return WORDNET POS compliance to WORDENT lemmatization (a,n,r,v) \n",
        "        \"\"\"\n",
        "        if treebank_tag.startswith('J'):\n",
        "            return 'a'\n",
        "        elif treebank_tag.startswith('V'):\n",
        "            return 'v'\n",
        "        elif treebank_tag.startswith('N'):\n",
        "            return 'n'\n",
        "        elif treebank_tag.startswith('R'):\n",
        "            return 'r'\n",
        "        else:\n",
        "            return 'n'\n",
        "\n",
        "\n",
        "def lemmatize(X):\n",
        "  \"\"\"\n",
        "  Lemmatize words using corresponding POS tag\n",
        "  \"\"\"\n",
        "\n",
        "  lemmatizer = nltk.stem.WordNetLemmatizer()\n",
        "  \n",
        "  X_pos = []\n",
        "  X_lemmatized = []\n",
        "\n",
        "  for sentence in X :\n",
        "\n",
        "    temp = nltk.pos_tag(sentence)\n",
        "    X_pos.append(temp)  \n",
        "\n",
        "  for sentence in X_pos :\n",
        "\n",
        "    temp = [ lemmatizer.lemmatize(word[0],pos=get_wordnet_pos(word[1])) for word in sentence]\n",
        "    X_lemmatized.append(temp)  \n",
        "\n",
        "  return X_lemmatized"
      ],
      "execution_count": null,
      "outputs": []
    },
    {
      "cell_type": "code",
      "metadata": {
        "id": "HsDC6LPMSArM"
      },
      "source": [
        "with open('/content/drive/MyDrive/tokenizer.pickle', 'rb') as handle:\n",
        "  tokenizer = pickle.load(handle)\n",
        "\n",
        "# only for confusion matrix, else not needed\n",
        "with open('/content/drive/MyDrive/fsacd_x_test.pickle', 'rb') as handle:\n",
        "  X_test = pickle.load(handle)\n",
        "\n",
        "with open('/content/drive/MyDrive/fsacd_y_test.pickle', 'rb') as handle:\n",
        "  Y_test = pickle.load(handle)"
      ],
      "execution_count": null,
      "outputs": []
    },
    {
      "cell_type": "code",
      "metadata": {
        "colab": {
          "base_uri": "https://localhost:8080/"
        },
        "id": "UHslAtH4aFcU",
        "outputId": "678516e2-c016-4d4c-9706-58c8bd9ff02f"
      },
      "source": [
        "nltk.download('averaged_perceptron_tagger')\n",
        "nltk.download('wordnet')"
      ],
      "execution_count": null,
      "outputs": [
        {
          "output_type": "stream",
          "text": [
            "[nltk_data] Downloading package averaged_perceptron_tagger to\n",
            "[nltk_data]     /root/nltk_data...\n",
            "[nltk_data]   Unzipping taggers/averaged_perceptron_tagger.zip.\n",
            "[nltk_data] Downloading package wordnet to /root/nltk_data...\n",
            "[nltk_data]   Unzipping corpora/wordnet.zip.\n"
          ],
          "name": "stdout"
        },
        {
          "output_type": "execute_result",
          "data": {
            "text/plain": [
              "True"
            ]
          },
          "metadata": {
            "tags": []
          },
          "execution_count": 6
        }
      ]
    },
    {
      "cell_type": "code",
      "metadata": {
        "id": "KN_B7vpGSNhL",
        "colab": {
          "base_uri": "https://localhost:8080/"
        },
        "outputId": "ef41f31e-72d1-4bfb-ad88-69e20de6b2ad"
      },
      "source": [
        "model = keras.models.load_model('/content/drive/MyDrive/fsact_lstm_w_neu')"
      ],
      "execution_count": null,
      "outputs": [
        {
          "output_type": "stream",
          "text": [
            "WARNING:tensorflow:SavedModel saved prior to TF 2.5 detected when loading Keras model. Please ensure that you are saving the model with model.save() or tf.keras.models.save_model(), *NOT* tf.saved_model.save(). To confirm, there should be a file named \"keras_metadata.pb\" in the SavedModel directory.\n"
          ],
          "name": "stdout"
        }
      ]
    },
    {
      "cell_type": "code",
      "metadata": {
        "id": "kF-GJDnj3nDK"
      },
      "source": [
        "from keras.preprocessing.sequence import pad_sequences"
      ],
      "execution_count": null,
      "outputs": []
    },
    {
      "cell_type": "code",
      "metadata": {
        "id": "Awqf-RwHRzQD"
      },
      "source": [
        "# prediction\n",
        "\n",
        "def predict(text):\n",
        "  text_list = list(text)\n",
        "  text_list_clean = remove_noise(text_list)\n",
        "  tokenized_text = tokenize(text_list_clean)\n",
        "  lem_text = lemmatize(tokenized_text)\n",
        "\n",
        "  clean_lem = []\n",
        "\n",
        "  for sentence in lem_text:\n",
        "    temp = \" \".join(sentence)\n",
        "    clean_lem.append(temp)\n",
        "\n",
        "  ltcleanvectorized=tokenizer.texts_to_sequences(clean_lem)\n",
        "\n",
        "  ltcleanpad = keras.preprocessing.sequence.pad_sequences(ltcleanvectorized,max_length,padding='post',\n",
        "                                                         truncating='post')\n",
        "\n",
        "  predicted = model.predict(ltcleanpad)\n",
        "\n",
        "  return predicted"
      ],
      "execution_count": null,
      "outputs": []
    },
    {
      "cell_type": "code",
      "metadata": {
        "id": "zVRI1HipaQbc"
      },
      "source": [
        "max_length=30\n",
        "labels = [\"Negative\", \"Neutral\", \"Positive\"]"
      ],
      "execution_count": null,
      "outputs": []
    },
    {
      "cell_type": "code",
      "metadata": {
        "id": "qeNgxG1hZwk1"
      },
      "source": [
        "test_text = [\"@ViratKohli is such a good guy https://t.co\",\n",
        "             \"@Amazon will go bankrupt if they sell at such low rates with no profit \",\n",
        "             \"RT It is disappointing to see racism even in such day and age\",\n",
        "             \"today %$^%#^: is my birthday!\",\n",
        "             \"@DJSnake will be playing at India tomorrow.\",\n",
        "             \"In other news the sky is blue\",\n",
        "             \"Buy a coat worth 20 rupees\"]\n",
        "\n",
        "out = predict(test_text)"
      ],
      "execution_count": null,
      "outputs": []
    },
    {
      "cell_type": "code",
      "metadata": {
        "colab": {
          "base_uri": "https://localhost:8080/"
        },
        "id": "d5zWpI6tZ_H8",
        "outputId": "c06929b0-78b5-4777-e694-bf9ed9ec3881"
      },
      "source": [
        "for ans in out:\n",
        "  print(labels[np.argmax(ans)])"
      ],
      "execution_count": null,
      "outputs": [
        {
          "output_type": "stream",
          "text": [
            "Positive\n",
            "Negative\n",
            "Negative\n",
            "Positive\n",
            "Positive\n",
            "Neutral\n",
            "Neutral\n"
          ],
          "name": "stdout"
        }
      ]
    },
    {
      "cell_type": "code",
      "metadata": {
        "id": "swjwI6vlZW88"
      },
      "source": [
        "ref = []\n",
        "for i in Y_test:\n",
        "  ref.append(i[0])"
      ],
      "execution_count": null,
      "outputs": []
    },
    {
      "cell_type": "code",
      "metadata": {
        "id": "GLZLlNLVTPD8"
      },
      "source": [
        "y_preds = model.predict(X_test)"
      ],
      "execution_count": null,
      "outputs": []
    },
    {
      "cell_type": "code",
      "metadata": {
        "id": "XBms2GpWYU4s"
      },
      "source": [
        "test = []\n",
        "for i in y_preds:\n",
        "  test.append(np.argmax(i))"
      ],
      "execution_count": null,
      "outputs": []
    },
    {
      "cell_type": "code",
      "metadata": {
        "colab": {
          "base_uri": "https://localhost:8080/",
          "height": 295
        },
        "id": "Q8V2bxYwTMoD",
        "outputId": "0da508b2-5590-4622-c18c-ec2a160ec79a"
      },
      "source": [
        "# plot confusion matrix\n",
        "cm = confusion_matrix(y_true = ref, y_pred=test)\n",
        "disp = ConfusionMatrixDisplay(confusion_matrix=cm, display_labels=labels)\n",
        "disp.plot(values_format='')"
      ],
      "execution_count": null,
      "outputs": [
        {
          "output_type": "execute_result",
          "data": {
            "text/plain": [
              "<sklearn.metrics._plot.confusion_matrix.ConfusionMatrixDisplay at 0x7fae00f7e2d0>"
            ]
          },
          "metadata": {
            "tags": []
          },
          "execution_count": 26
        },
        {
          "output_type": "display_data",
          "data": {
            "image/png": "[encoded data removed]",
            "text/plain": [
              "<Figure size 432x288 with 2 Axes>"
            ]
          },
          "metadata": {
            "tags": [],
            "needs_background": "light"
          }
        }
      ]
    },
    {
      "cell_type": "code",
      "metadata": {
        "id": "33VxZfla4Or_"
      },
      "source": [
        "from sklearn.metrics import precision_recall_fscore_support"
      ],
      "execution_count": null,
      "outputs": []
    },
    {
      "cell_type": "code",
      "metadata": {
        "colab": {
          "base_uri": "https://localhost:8080/"
        },
        "id": "juwkQ5BP5Klj",
        "outputId": "a6ea7f50-ed20-4f55-e0c0-f1b16008f431"
      },
      "source": [
        "precision_recall_fscore_support(ref, test, labels=[0, 1, 2])"
      ],
      "execution_count": null,
      "outputs": [
        {
          "output_type": "execute_result",
          "data": {
            "text/plain": [
              "(array([0.79767248, 0.93865405, 0.77729218]),\n",
              " array([0.81722905, 0.91313115, 0.77484608]),\n",
              " array([0.80733235, 0.92571671, 0.7760672 ]),\n",
              " array([239874, 188445, 240551]))"
            ]
          },
          "metadata": {
            "tags": []
          },
          "execution_count": 28
        }
      ]
    },
    {
      "cell_type": "code",
      "metadata": {
        "colab": {
          "base_uri": "https://localhost:8080/",
          "height": 864
        },
        "id": "2ToCI0jI68aB",
        "outputId": "23623cfe-d3b7-4673-bd66-125e8b20b062"
      },
      "source": [
        "model.summary()\n",
        "from keras.utils.vis_utils import plot_model\n",
        "plot_model(model,to_file='/content/drive/MyDrive/final_sa_colab_arch.png')"
      ],
      "execution_count": null,
      "outputs": [
        {
          "output_type": "stream",
          "text": [
            "Model: \"sequential\"\n",
            "_________________________________________________________________\n",
            "Layer (type)                 Output Shape              Param #   \n",
            "=================================================================\n",
            "embedding (Embedding)        (None, 30, 300)           120000000 \n",
            "_________________________________________________________________\n",
            "bidirectional (Bidirectional (None, 128)               186880    \n",
            "_________________________________________________________________\n",
            "dense (Dense)                (None, 64)                8256      \n",
            "_________________________________________________________________\n",
            "dropout (Dropout)            (None, 64)                0         \n",
            "_________________________________________________________________\n",
            "dense_1 (Dense)              (None, 3)                 195       \n",
            "=================================================================\n",
            "Total params: 120,195,331\n",
            "Trainable params: 195,331\n",
            "Non-trainable params: 120,000,000\n",
            "_________________________________________________________________\n"
          ],
          "name": "stdout"
        },
        {
          "output_type": "execute_result",
          "data": {
            "image/png": "[encoded data removed]",
            "text/plain": [
              "<IPython.core.display.Image object>"
            ]
          },
          "metadata": {
            "tags": []
          },
          "execution_count": 29
        }
      ]
    },
    {
      "cell_type": "code",
      "metadata": {
        "id": "MVDUDaoU7CVI"
      },
      "source": [
        ""
      ],
      "execution_count": null,
      "outputs": []
    }
  ]
}