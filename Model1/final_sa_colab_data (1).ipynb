{
  "nbformat": 4,
  "nbformat_minor": 0,
  "metadata": {
    "colab": {
      "name": "final_sa_colab_data.ipynb",
      "provenance": [],
      "collapsed_sections": []
    },
    "kernelspec": {
      "name": "python3",
      "display_name": "Python 3"
    },
    "language_info": {
      "name": "python"
    },
    "accelerator": "TPU"
  },
  "cells": [
    {
      "cell_type": "code",
      "metadata": {
        "id": "zWh1r5X_gxTm"
      },
      "source": [
        "import pandas as pd\n",
        "import re\n",
        "import numpy as np\n",
        "import keras\n",
        "import pickle\n",
        "import matplotlib.pyplot as plt\n",
        "import nltk\n",
        "from keras.preprocessing.text import Tokenizer\n",
        "from keras.layers import Dropout, Dense, LSTM, Bidirectional, Embedding, InputLayer\n",
        "from sklearn.model_selection import train_test_split\n",
        "import seaborn as sns"
      ],
      "execution_count": null,
      "outputs": []
    },
    {
      "cell_type": "code",
      "metadata": {
        "colab": {
          "base_uri": "https://localhost:8080/"
        },
        "id": "Y4d9SAxB45yn",
        "outputId": "821cf4dd-7e27-4365-c310-be7b7d2e60c5"
      },
      "source": [
        "nltk.download('averaged_perceptron_tagger')\n",
        "nltk.download('wordnet')"
      ],
      "execution_count": null,
      "outputs": [
        {
          "output_type": "stream",
          "text": [
            "[nltk_data] Downloading package averaged_perceptron_tagger to\n",
            "[nltk_data]     /root/nltk_data...\n",
            "[nltk_data]   Unzipping taggers/averaged_perceptron_tagger.zip.\n",
            "[nltk_data] Downloading package wordnet to /root/nltk_data...\n",
            "[nltk_data]   Unzipping corpora/wordnet.zip.\n"
          ],
          "name": "stdout"
        },
        {
          "output_type": "execute_result",
          "data": {
            "text/plain": [
              "True"
            ]
          },
          "metadata": {
            "tags": []
          },
          "execution_count": 2
        }
      ]
    },
    {
      "cell_type": "code",
      "metadata": {
        "id": "7aAbPR365GGV"
      },
      "source": [
        "dataset = pd.read_csv('/content/drive/MyDrive/dataset.csv')"
      ],
      "execution_count": null,
      "outputs": []
    },
    {
      "cell_type": "code",
      "metadata": {
        "id": "RaCV9Mda5mk3"
      },
      "source": [
        "dataset = dataset.sample(frac=1)"
      ],
      "execution_count": null,
      "outputs": []
    },
    {
      "cell_type": "code",
      "metadata": {
        "colab": {
          "base_uri": "https://localhost:8080/",
          "height": 337
        },
        "id": "pIVXSbzR6Fjv",
        "outputId": "7f955e93-5a5e-4075-c599-84b5f8388aa8"
      },
      "source": [
        "sns.set_theme(style=\"darkgrid\")\n",
        "ax = sns.countplot(dataset.sentiment)"
      ],
      "execution_count": null,
      "outputs": [
        {
          "output_type": "stream",
          "text": [
            "/usr/local/lib/python3.7/dist-packages/seaborn/_decorators.py:43: FutureWarning: Pass the following variable as a keyword arg: x. From version 0.12, the only valid positional argument will be `data`, and passing other arguments without an explicit keyword will result in an error or misinterpretation.\n",
            "  FutureWarning\n"
          ],
          "name": "stderr"
        },
        {
          "output_type": "display_data",
          "data": {
            "image/png": "[encoded data removed]",
            "text/plain": [
              "<Figure size 432x288 with 1 Axes>"
            ]
          },
          "metadata": {
            "tags": []
          }
        }
      ]
    },
    {
      "cell_type": "code",
      "metadata": {
        "id": "nSAnT4Cc6MYg"
      },
      "source": [
        "tweets_data = np.array(dataset['text'])\n",
        "label_data = np.array(dataset['sentiment'])"
      ],
      "execution_count": null,
      "outputs": []
    },
    {
      "cell_type": "code",
      "metadata": {
        "id": "PHoOpHjo8C4s"
      },
      "source": [
        "def tokenize(X):\n",
        "  treebank = nltk.tokenize.TreebankWordTokenizer()\n",
        "  X_tokenized=[treebank.tokenize(sentence) for sentence in X]  \n",
        "  return X_tokenized"
      ],
      "execution_count": null,
      "outputs": []
    },
    {
      "cell_type": "code",
      "metadata": {
        "id": "98CFY8xl8FK_"
      },
      "source": [
        "def remove_noise(tweet_tokens):\n",
        "    # remove hyperlinks, special characters, emojis, punctuations\n",
        "    \n",
        "    for i in range(len(tweet_tokens)):\n",
        "        tweet_tokens[i] = re.sub('http[s]?://(?:[a-zA-Z]|[0-9]|[$-_@.&+#]|[!*\\(\\),]|'\\\n",
        "                           '(?:%[0-9a-fA-F][0-9a-fA-F]))*', '', tweet_tokens[i])\n",
        "        # Remove twitter handles\n",
        "        tweet_tokens[i] = re.sub(\"(@[A-Za-z0-9_]*)\",\"\", tweet_tokens[i])\n",
        "        # make lower\n",
        "        tweet_tokens[i] = tweet_tokens[i].lower()\n",
        "        tweet_tokens[i] = re.sub('\\brt\\b', '', tweet_tokens[i])\n",
        "        tweet_tokens[i] = re.sub('[^\\w\\s]', '', tweet_tokens[i])\n",
        "    return tweet_tokens"
      ],
      "execution_count": null,
      "outputs": []
    },
    {
      "cell_type": "code",
      "metadata": {
        "id": "NIqAEFIB8Gy4"
      },
      "source": [
        "def get_wordnet_pos(treebank_tag):\n",
        "        \"\"\"\n",
        "        return WORDNET POS compliance to WORDENT lemmatization (a,n,r,v) \n",
        "        \"\"\"\n",
        "        if treebank_tag.startswith('J'):\n",
        "            return 'a'\n",
        "        elif treebank_tag.startswith('V'):\n",
        "            return 'v'\n",
        "        elif treebank_tag.startswith('N'):\n",
        "            return 'n'\n",
        "        elif treebank_tag.startswith('R'):\n",
        "            return 'r'\n",
        "        else:\n",
        "            return None\n",
        "\n",
        "\n",
        "def lemmatize(X):\n",
        "  \"\"\"\n",
        "  Lemmatize words using corresponding POS tag\n",
        "  \"\"\"\n",
        "\n",
        "  lemmatizer = nltk.stem.WordNetLemmatizer()\n",
        "  \n",
        "  X_pos = []\n",
        "  X_lemmatized = []\n",
        "\n",
        "  for sentence in X :\n",
        "\n",
        "    temp = nltk.pos_tag(sentence)\n",
        "    X_pos.append(temp)  \n",
        "\n",
        "  for sentence in X_pos :\n",
        "\n",
        "    temp = [ lemmatizer.lemmatize(word[0],pos=get_wordnet_pos(word[1])) for word in sentence]\n",
        "    X_lemmatized.append(temp)  \n",
        "\n",
        "  return X_lemmatized"
      ],
      "execution_count": null,
      "outputs": []
    },
    {
      "cell_type": "code",
      "metadata": {
        "id": "l88Xmeta8Jqm"
      },
      "source": [
        "tweets_cleaned = remove_noise(tweets_data)"
      ],
      "execution_count": null,
      "outputs": []
    },
    {
      "cell_type": "code",
      "metadata": {
        "id": "dwg_Ephs8KNW"
      },
      "source": [
        "tokenized_td = tokenize(tweets_cleaned)"
      ],
      "execution_count": null,
      "outputs": []
    },
    {
      "cell_type": "code",
      "metadata": {
        "id": "W2pewnK-8LxN"
      },
      "source": [
        "lemmatized_td = lemmatize(tokenized_td)"
      ],
      "execution_count": null,
      "outputs": []
    },
    {
      "cell_type": "code",
      "metadata": {
        "id": "cUNMhcN88cgt"
      },
      "source": [
        "clean_td = []\n",
        "\n",
        "for sentence in lemmatized_td:\n",
        "\n",
        "  temp = \" \".join(sentence)\n",
        "  clean_td.append(temp)"
      ],
      "execution_count": null,
      "outputs": []
    },
    {
      "cell_type": "code",
      "metadata": {
        "id": "s-M1D94P8e3r"
      },
      "source": [
        "max_vocab = 400000"
      ],
      "execution_count": null,
      "outputs": []
    },
    {
      "cell_type": "code",
      "metadata": {
        "id": "SHkcWth28hBz"
      },
      "source": [
        "tokenizer = Tokenizer(num_words=max_vocab)\n",
        "tokenizer.fit_on_texts(clean_td)"
      ],
      "execution_count": null,
      "outputs": []
    },
    {
      "cell_type": "code",
      "metadata": {
        "id": "bBqs8OX7QBnH"
      },
      "source": [
        "with open('/content/drive/MyDrive/tokenizer.pickle', 'wb') as handle:\n",
        "    pickle.dump(tokenizer, handle)"
      ],
      "execution_count": null,
      "outputs": []
    },
    {
      "cell_type": "code",
      "metadata": {
        "id": "7WkgwAtc8iPc"
      },
      "source": [
        "clean_vectorized=tokenizer.texts_to_sequences(clean_td)"
      ],
      "execution_count": null,
      "outputs": []
    },
    {
      "cell_type": "code",
      "metadata": {
        "id": "tYzZcs4J8jPM"
      },
      "source": [
        "max_length = 30"
      ],
      "execution_count": null,
      "outputs": []
    },
    {
      "cell_type": "code",
      "metadata": {
        "colab": {
          "base_uri": "https://localhost:8080/"
        },
        "id": "5FU4w9Uu8kiL",
        "outputId": "092b9dc3-d0cd-4772-a9a1-62f17c148ca1"
      },
      "source": [
        "clean_pad = keras.preprocessing.sequence.pad_sequences(clean_vectorized,max_length,padding='post',\n",
        "                                                         truncating='post')\n",
        "\n",
        "print(clean_pad.shape)"
      ],
      "execution_count": null,
      "outputs": [
        {
          "output_type": "stream",
          "text": [
            "(2229566, 30)\n"
          ],
          "name": "stdout"
        }
      ]
    },
    {
      "cell_type": "code",
      "metadata": {
        "colab": {
          "base_uri": "https://localhost:8080/"
        },
        "id": "J1N2bjZa8l1d",
        "outputId": "1af2b4d3-6899-4db4-f064-54f3c163e97e"
      },
      "source": [
        "# Visualize pre-processed data\n",
        "\n",
        "index  = 306  # index in range [0,1599999]\n",
        "\n",
        "print('\\nOriginal :')\n",
        "print(tweets_data[index])\n",
        "print('\\nTokenized :')\n",
        "print(tokenized_td[index])\n",
        "print('\\nLemmatized :')\n",
        "print(lemmatized_td[index])\n",
        "print('\\nClean :')\n",
        "print(clean_td[index])\n",
        "print('\\nVectorized :')\n",
        "print(clean_vectorized[index])\n",
        "print('\\nPadded :')\n",
        "print(clean_pad[index])"
      ],
      "execution_count": null,
      "outputs": [
        {
          "output_type": "stream",
          "text": [
            "\n",
            "Original :\n",
            "shop morespend lesskwesi broni blw out sale friday 9am at sunnyfm yardcall now 0242132272\n",
            "\n",
            "Tokenized :\n",
            "['shop', 'morespend', 'lesskwesi', 'broni', 'blw', 'out', 'sale', 'friday', '9am', 'at', 'sunnyfm', 'yardcall', 'now', '0242132272']\n",
            "\n",
            "Lemmatized :\n",
            "['shop', 'morespend', 'lesskwesi', 'broni', 'blw', 'out', 'sale', 'friday', '9am', 'at', 'sunnyfm', 'yardcall', 'now', '0242132272']\n",
            "\n",
            "Clean :\n",
            "shop morespend lesskwesi broni blw out sale friday 9am at sunnyfm yardcall now 0242132272\n",
            "\n",
            "Vectorized :\n",
            "[410, 20339, 20340, 13849, 13729, 32, 409, 265, 3656, 19, 12614, 14131, 29, 13141]\n",
            "\n",
            "Padded :\n",
            "[  410 20339 20340 13849 13729    32   409   265  3656    19 12614 14131\n",
            "    29 13141     0     0     0     0     0     0     0     0     0     0\n",
            "     0     0     0     0     0     0]\n"
          ],
          "name": "stdout"
        }
      ]
    },
    {
      "cell_type": "code",
      "metadata": {
        "id": "C9mQdlt783J-"
      },
      "source": [
        "# (0 = negative, 2 = neutral, 4 = positive) ==> (0 = negative, 1 = neutral, 2 = positive)\n",
        "for idx in range(len(label_data)):\n",
        "    if label_data[idx] == 2:\n",
        "        label_data[idx] = 1\n",
        "    elif label_data[idx] == 4:\n",
        "        label_data[idx] = 2"
      ],
      "execution_count": null,
      "outputs": []
    },
    {
      "cell_type": "code",
      "metadata": {
        "colab": {
          "base_uri": "https://localhost:8080/"
        },
        "id": "j2-VW-Lw84o3",
        "outputId": "d5af1efb-a1ed-4c3c-a0f8-a3c98f0879b8"
      },
      "source": [
        "X_train, X_test, Y_train, Y_test = train_test_split(clean_pad,label_data.reshape(label_data.shape[0],1),test_size=0.30)\n",
        "\n",
        "print(X_train.shape)\n",
        "print(X_test.shape)\n",
        "print(Y_train.shape)\n",
        "print(Y_test.shape)"
      ],
      "execution_count": null,
      "outputs": [
        {
          "output_type": "stream",
          "text": [
            "(1560696, 30)\n",
            "(668870, 30)\n",
            "(1560696, 1)\n",
            "(668870, 1)\n"
          ],
          "name": "stdout"
        }
      ]
    },
    {
      "cell_type": "code",
      "metadata": {
        "id": "kUY-1biQXLFg"
      },
      "source": [
        "# pickle\n",
        "\n",
        "with open('fsacd_x_train.pickle', 'wb') as handle:\n",
        "    pickle.dump(X_train, handle)\n",
        "\n",
        "with open('fsacd_x_test.pickle', 'wb') as handle:\n",
        "    pickle.dump(X_test, handle)\n",
        "    \n",
        "with open('fsacd_y_train.pickle', 'wb') as handle:\n",
        "    pickle.dump(Y_train, handle)\n",
        "    \n",
        "with open('fsacd_y_test.pickle', 'wb') as handle:\n",
        "    pickle.dump(Y_test, handle)"
      ],
      "execution_count": null,
      "outputs": []
    },
    {
      "cell_type": "code",
      "metadata": {
        "id": "BfynlJq08nJU"
      },
      "source": [
        "# Load Pre-trained Word embeddings\n",
        "embedding_path = '/content/drive/MyDrive/glove.6B.300d.txt'\n",
        "\n",
        "embeddings_index = dict()\n",
        "f = open(embedding_path, encoding='utf8')\n",
        "for line in f:\n",
        "\tvalues = line.split()\n",
        "\tword = values[0]\n",
        "\tcoefs = np.asarray(values[1:], dtype='float32')\n",
        "\tembeddings_index[word] = coefs\n",
        "f.close()\n",
        "\n",
        "# Create Word Embedding Matrix\n",
        "\n",
        "embedding_matrix = np.zeros((max_vocab, 300))\n",
        "for i in range(1,max_vocab):\n",
        "\tembedding_vector = embeddings_index.get(tokenizer.index_word[i])\n",
        "\tif embedding_vector is not None:\n",
        "\t\tembedding_matrix[i] = embedding_vector"
      ],
      "execution_count": null,
      "outputs": []
    },
    {
      "cell_type": "code",
      "metadata": {
        "id": "XvvD3PYcnYI2"
      },
      "source": [
        "with open('/content/drive/MyDrive/embmat.pickle', 'wb') as handle:\n",
        "    pickle.dump(embedding_matrix, handle)"
      ],
      "execution_count": null,
      "outputs": []
    }
  ]
}