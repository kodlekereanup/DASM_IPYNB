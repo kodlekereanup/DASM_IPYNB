{
  "nbformat": 4,
  "nbformat_minor": 0,
  "metadata": {
    "colab": {
      "name": "Copy of word2vec of train_2L_lstm.ipynb",
      "provenance": [],
      "collapsed_sections": []
    },
    "kernelspec": {
      "name": "python3",
      "display_name": "Python 3"
    },
    "language_info": {
      "name": "python"
    },
    "accelerator": "GPU"
  },
  "cells": [
    {
      "cell_type": "code",
      "metadata": {
        "id": "ZzlJiOr0W7YX"
      },
      "source": [
        "import keras\n",
        "import pickle\n",
        "import numpy as np\n",
        "import matplotlib.pyplot as plt\n",
        "from keras.preprocessing.text import Tokenizer\n",
        "from keras.layers import Dense, Dropout, LSTM, Embedding, Bidirectional, InputLayer"
      ],
      "execution_count": null,
      "outputs": []
    },
    {
      "cell_type": "code",
      "metadata": {
        "id": "jrn5HgScW3dn"
      },
      "source": [
        "max_vocab=400000\n",
        "max_length=25"
      ],
      "execution_count": null,
      "outputs": []
    },
    {
      "cell_type": "code",
      "metadata": {
        "id": "02gOrgfJX2hB"
      },
      "source": [
        "with open('/content/drive/MyDrive/newfsacd_x_train.pickle', 'rb') as handle:\n",
        "    X_train = pickle.load(handle)\n",
        "\n",
        "with open('/content/drive/MyDrive/newfsacd_x_test.pickle', 'rb') as handle:\n",
        "    X_test = pickle.load(handle)\n",
        "    \n",
        "with open('/content/drive/MyDrive/newfsacd_y_train.pickle', 'rb') as handle:\n",
        "    Y_train = pickle.load(handle)\n",
        "    \n",
        "with open('/content/drive/MyDrive/newfsacd_y_test.pickle', 'rb') as handle:\n",
        "    Y_test = pickle.load(handle)\n",
        "\n",
        "with open('/content/drive/MyDrive/wordembmat.pickle', 'rb') as handle:\n",
        "    embedding_matrix = pickle.load(handle)\n"
      ],
      "execution_count": null,
      "outputs": []
    },
    {
      "cell_type": "code",
      "metadata": {
        "id": "48VQV6YzW2_g"
      },
      "source": [
        "model = keras.models.Sequential()\n",
        "\n",
        "model.add(InputLayer(input_shape=(max_length)))\n",
        "model.add(Embedding(max_vocab, 300, weights=[embedding_matrix], input_length=max_length,mask_zero=True, trainable=False))\n",
        "model.add((LSTM(64, return_sequences=True)))\n",
        "model.add((LSTM(32)))\n",
        "model.add(Dense(64, activation='relu'))\n",
        "model.add(Dropout(0.5))\n",
        "model.add(Dense(3, activation='softmax'))"
      ],
      "execution_count": null,
      "outputs": []
    },
    {
      "cell_type": "code",
      "metadata": {
        "id": "1X2wSwWpX9Pg",
        "colab": {
          "base_uri": "https://localhost:8080/"
        },
        "outputId": "88770a3f-1ebf-4d13-a5c3-b9a95ba9b344"
      },
      "source": [
        "# Compile the Model\n",
        "\n",
        "model.compile(keras.optimizers.Adam(lr=0.0001),loss='sparse_categorical_crossentropy',\n",
        "                metrics=['accuracy'])"
      ],
      "execution_count": null,
      "outputs": [
        {
          "output_type": "stream",
          "text": [
            "/usr/local/lib/python3.7/dist-packages/tensorflow/python/keras/optimizer_v2/optimizer_v2.py:375: UserWarning: The `lr` argument is deprecated, use `learning_rate` instead.\n",
            "  \"The `lr` argument is deprecated, use `learning_rate` instead.\")\n"
          ],
          "name": "stderr"
        }
      ]
    },
    {
      "cell_type": "code",
      "metadata": {
        "colab": {
          "base_uri": "https://localhost:8080/"
        },
        "id": "Um5jDQxwYCmw",
        "outputId": "ec6eddf3-c93b-4bc3-8c56-9c4633d634f3"
      },
      "source": [
        "history_model = model.fit(X_train,Y_train, batch_size=512, epochs=15,validation_split=0.05, verbose=True)"
      ],
      "execution_count": null,
      "outputs": [
        {
          "output_type": "stream",
          "text": [
            "Epoch 1/15\n",
            "2896/2896 [==============================] - 341s 110ms/step - loss: 0.8623 - accuracy: 0.5722 - val_loss: 0.6419 - val_accuracy: 0.6999\n",
            "Epoch 2/15\n",
            "2896/2896 [==============================] - 312s 108ms/step - loss: 0.6410 - accuracy: 0.7058 - val_loss: 0.5861 - val_accuracy: 0.7265\n",
            "Epoch 3/15\n",
            "2896/2896 [==============================] - 311s 107ms/step - loss: 0.5911 - accuracy: 0.7311 - val_loss: 0.5553 - val_accuracy: 0.7441\n",
            "Epoch 4/15\n",
            "2896/2896 [==============================] - 314s 108ms/step - loss: 0.5631 - accuracy: 0.7461 - val_loss: 0.5344 - val_accuracy: 0.7551\n",
            "Epoch 5/15\n",
            "2896/2896 [==============================] - 316s 109ms/step - loss: 0.5425 - accuracy: 0.7579 - val_loss: 0.5186 - val_accuracy: 0.7651\n",
            "Epoch 6/15\n",
            "2896/2896 [==============================] - 317s 110ms/step - loss: 0.5286 - accuracy: 0.7650 - val_loss: 0.5078 - val_accuracy: 0.7714\n",
            "Epoch 7/15\n",
            "2896/2896 [==============================] - 312s 108ms/step - loss: 0.5172 - accuracy: 0.7711 - val_loss: 0.4997 - val_accuracy: 0.7754\n",
            "Epoch 8/15\n",
            "2896/2896 [==============================] - 310s 107ms/step - loss: 0.5090 - accuracy: 0.7751 - val_loss: 0.4982 - val_accuracy: 0.7773\n",
            "Epoch 9/15\n",
            "2896/2896 [==============================] - 314s 109ms/step - loss: 0.5031 - accuracy: 0.7781 - val_loss: 0.4903 - val_accuracy: 0.7802\n",
            "Epoch 10/15\n",
            "2896/2896 [==============================] - 316s 109ms/step - loss: 0.4970 - accuracy: 0.7815 - val_loss: 0.4857 - val_accuracy: 0.7816\n",
            "Epoch 11/15\n",
            "2896/2896 [==============================] - 312s 108ms/step - loss: 0.4923 - accuracy: 0.7840 - val_loss: 0.4811 - val_accuracy: 0.7857\n",
            "Epoch 12/15\n",
            "2896/2896 [==============================] - 317s 109ms/step - loss: 0.4879 - accuracy: 0.7865 - val_loss: 0.4790 - val_accuracy: 0.7855\n",
            "Epoch 13/15\n",
            "2896/2896 [==============================] - 314s 108ms/step - loss: 0.4848 - accuracy: 0.7882 - val_loss: 0.4759 - val_accuracy: 0.7869\n",
            "Epoch 14/15\n",
            "2896/2896 [==============================] - 315s 109ms/step - loss: 0.4803 - accuracy: 0.7900 - val_loss: 0.4744 - val_accuracy: 0.7879\n",
            "Epoch 15/15\n",
            "2896/2896 [==============================] - 319s 110ms/step - loss: 0.4770 - accuracy: 0.7916 - val_loss: 0.4700 - val_accuracy: 0.7897\n"
          ],
          "name": "stdout"
        }
      ]
    },
    {
      "cell_type": "code",
      "metadata": {
        "colab": {
          "base_uri": "https://localhost:8080/"
        },
        "id": "Hdr6ulpZpHqX",
        "outputId": "6dd5c9a5-4932-4d99-8f75-2a37d72ea26b"
      },
      "source": [
        "model.save('/content/drive/MyDrive/contract_word2vec5_newfsact_lstm2l_w_neu_bs512')\n",
        "print(\"saved\")"
      ],
      "execution_count": null,
      "outputs": [
        {
          "output_type": "stream",
          "text": [
            "WARNING:absl:Found untraced functions such as lstm_cell_layer_call_fn, lstm_cell_layer_call_and_return_conditional_losses, lstm_cell_1_layer_call_fn, lstm_cell_1_layer_call_and_return_conditional_losses, lstm_cell_layer_call_fn while saving (showing 5 of 10). These functions will not be directly callable after loading.\n"
          ],
          "name": "stderr"
        },
        {
          "output_type": "stream",
          "text": [
            "INFO:tensorflow:Assets written to: /content/drive/MyDrive/contract_word2vec5_newfsact_lstm2l_w_neu_bs512/assets\n"
          ],
          "name": "stdout"
        },
        {
          "output_type": "stream",
          "text": [
            "INFO:tensorflow:Assets written to: /content/drive/MyDrive/contract_word2vec5_newfsact_lstm2l_w_neu_bs512/assets\n"
          ],
          "name": "stderr"
        },
        {
          "output_type": "stream",
          "text": [
            "saved\n"
          ],
          "name": "stdout"
        }
      ]
    },
    {
      "cell_type": "code",
      "metadata": {
        "id": "1JR4_-iCO8a9"
      },
      "source": [
        "# Calculate No. of epochs\n",
        "n_epochs=len(history_model.history['loss'])\n",
        "e = list(range(1,n_epochs+1))"
      ],
      "execution_count": null,
      "outputs": []
    },
    {
      "cell_type": "code",
      "metadata": {
        "colab": {
          "base_uri": "https://localhost:8080/",
          "height": 278
        },
        "id": "LdwMH-GYO_us",
        "outputId": "5f8f782b-dd2e-487e-afb6-0a13e3837a49"
      },
      "source": [
        "# Training Loss\n",
        "plt.plot(e,history_model.history['loss'],'b', label='Training Loss')\n",
        "plt.plot(e, history_model.history['val_loss'], 'r', label = 'Validation Loss')\n",
        "plt.xlabel('Epochs')\n",
        "plt.ylabel('Loss')\n",
        "plt.legend()\n",
        "plt.show()"
      ],
      "execution_count": null,
      "outputs": [
        {
          "output_type": "display_data",
          "data": {
            "image/png": "[encoded data removed]",
            "text/plain": [
              "<Figure size 432x288 with 1 Axes>"
            ]
          },
          "metadata": {
            "tags": [],
            "needs_background": "light"
          }
        }
      ]
    },
    {
      "cell_type": "code",
      "metadata": {
        "colab": {
          "base_uri": "https://localhost:8080/",
          "height": 278
        },
        "id": "JiRlc2WcPBY7",
        "outputId": "cd4e0f17-316a-4aae-a73f-2067caaf41c3"
      },
      "source": [
        "# Training Loss\n",
        "plt.plot(e,history_model.history['accuracy'],'b', label='Training Accuracy')\n",
        "plt.plot(e, history_model.history['val_accuracy'], 'r', label = 'Validation Accuracy')\n",
        "plt.xlabel('Epochs')\n",
        "plt.ylabel('Accuracy')\n",
        "plt.legend()\n",
        "plt.show()"
      ],
      "execution_count": null,
      "outputs": [
        {
          "output_type": "display_data",
          "data": {
            "image/png": "[encoded data removed]",
            "text/plain": [
              "<Figure size 432x288 with 1 Axes>"
            ]
          },
          "metadata": {
            "tags": [],
            "needs_background": "light"
          }
        }
      ]
    },
    {
      "cell_type": "code",
      "metadata": {
        "colab": {
          "base_uri": "https://localhost:8080/"
        },
        "id": "EgaHPzcFPPPV",
        "outputId": "ed7f71c6-aae7-49e8-9bc8-9a5f59719fe1"
      },
      "source": [
        "model.evaluate(X_test, Y_test)"
      ],
      "execution_count": null,
      "outputs": [
        {
          "output_type": "stream",
          "text": [
            "20903/20903 [==============================] - 115s 6ms/step - loss: 0.4707 - accuracy: 0.7910\n"
          ],
          "name": "stdout"
        },
        {
          "output_type": "execute_result",
          "data": {
            "text/plain": [
              "[0.4706522822380066, 0.7909635305404663]"
            ]
          },
          "metadata": {
            "tags": []
          },
          "execution_count": 10
        }
      ]
    },
    {
      "cell_type": "code",
      "metadata": {
        "colab": {
          "base_uri": "https://localhost:8080/",
          "height": 994
        },
        "id": "LM9GhXRCbXSM",
        "outputId": "53137299-9b80-4451-b625-4b0131ff5a79"
      },
      "source": [
        "model.summary()\n",
        "from keras.utils.vis_utils import plot_model\n",
        "plot_model(model,to_file='/content/drive/MyDrive/wordveccontract_train_2l_lstm_model.png')"
      ],
      "execution_count": null,
      "outputs": [
        {
          "output_type": "stream",
          "text": [
            "Model: \"sequential\"\n",
            "_________________________________________________________________\n",
            "Layer (type)                 Output Shape              Param #   \n",
            "=================================================================\n",
            "embedding (Embedding)        (None, 25, 300)           120000000 \n",
            "_________________________________________________________________\n",
            "lstm (LSTM)                  (None, 25, 64)            93440     \n",
            "_________________________________________________________________\n",
            "lstm_1 (LSTM)                (None, 32)                12416     \n",
            "_________________________________________________________________\n",
            "dense (Dense)                (None, 64)                2112      \n",
            "_________________________________________________________________\n",
            "dropout (Dropout)            (None, 64)                0         \n",
            "_________________________________________________________________\n",
            "dense_1 (Dense)              (None, 3)                 195       \n",
            "=================================================================\n",
            "Total params: 120,108,163\n",
            "Trainable params: 108,163\n",
            "Non-trainable params: 120,000,000\n",
            "_________________________________________________________________\n"
          ],
          "name": "stdout"
        },
        {
          "output_type": "execute_result",
          "data": {
            "image/png": "[encoded data removed]",
            "text/plain": [
              "<IPython.core.display.Image object>"
            ]
          },
          "metadata": {
            "tags": []
          },
          "execution_count": 11
        }
      ]
    },
    {
      "cell_type": "code",
      "metadata": {
        "id": "nbPTcjPlbYou"
      },
      "source": [
        ""
      ],
      "execution_count": null,
      "outputs": []
    }
  ]
}