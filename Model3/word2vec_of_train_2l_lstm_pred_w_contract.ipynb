{
  "nbformat": 4,
  "nbformat_minor": 0,
  "metadata": {
    "colab": {
      "name": "word2vec of train_2l_lstm_pred_w_contract.ipynb",
      "provenance": [],
      "collapsed_sections": []
    },
    "kernelspec": {
      "name": "python3",
      "display_name": "Python 3"
    },
    "language_info": {
      "name": "python"
    }
  },
  "cells": [
    {
      "cell_type": "code",
      "metadata": {
        "colab": {
          "base_uri": "https://localhost:8080/"
        },
        "id": "-ejRINN9fdh9",
        "outputId": "5b003474-ac64-4133-f4dd-e980209d814f"
      },
      "source": [
        "!pip install contractions\n",
        "nltk.download('averaged_perceptron_tagger')\n",
        "nltk.download('wordnet')\n",
        "nltk.download('stopwords')"
      ],
      "execution_count": null,
      "outputs": [
        {
          "output_type": "stream",
          "text": [
            "Collecting contractions\n",
            "  Downloading https://files.pythonhosted.org/packages/11/4d/378ab91284c2c3a06ab475b287721c09b7951d5ecb3edf4ffb0e1e7a568a/contractions-0.0.49-py2.py3-none-any.whl\n",
            "Collecting textsearch>=0.0.21\n",
            "  Downloading https://files.pythonhosted.org/packages/d3/fe/021d7d76961b5ceb9f8d022c4138461d83beff36c3938dc424586085e559/textsearch-0.0.21-py2.py3-none-any.whl\n",
            "Collecting anyascii\n",
            "\u001b[?25l  Downloading https://files.pythonhosted.org/packages/a3/14/666cd44bf53f36a961544af592cb5c5c800013f9c51a4745af8d7c17362a/anyascii-0.2.0-py3-none-any.whl (283kB)\n",
            "\u001b[K     |████████████████████████████████| 286kB 31.7MB/s \n",
            "\u001b[?25hCollecting pyahocorasick\n",
            "\u001b[?25l  Downloading https://files.pythonhosted.org/packages/7f/c2/eae730037ae1cbbfaa229d27030d1d5e34a1e41114b21447d1202ae9c220/pyahocorasick-1.4.2.tar.gz (321kB)\n",
            "\u001b[K     |████████████████████████████████| 327kB 37.3MB/s \n",
            "\u001b[?25hBuilding wheels for collected packages: pyahocorasick\n",
            "  Building wheel for pyahocorasick (setup.py) ... \u001b[?25l\u001b[?25hdone\n",
            "  Created wheel for pyahocorasick: filename=pyahocorasick-1.4.2-cp37-cp37m-linux_x86_64.whl size=85402 sha256=ae05377632cb4c5750e2867a5a3148524aaf85e23632f001a6840354cd70e131\n",
            "  Stored in directory: /root/.cache/pip/wheels/3a/03/34/77e3ece0bba8b86bfac88a79f923b36d805cad63caeba38842\n",
            "Successfully built pyahocorasick\n",
            "Installing collected packages: anyascii, pyahocorasick, textsearch, contractions\n",
            "Successfully installed anyascii-0.2.0 contractions-0.0.49 pyahocorasick-1.4.2 textsearch-0.0.21\n",
            "[nltk_data] Downloading package averaged_perceptron_tagger to\n",
            "[nltk_data]     /root/nltk_data...\n",
            "[nltk_data]   Unzipping taggers/averaged_perceptron_tagger.zip.\n",
            "[nltk_data] Downloading package wordnet to /root/nltk_data...\n",
            "[nltk_data]   Unzipping corpora/wordnet.zip.\n",
            "[nltk_data] Downloading package stopwords to /root/nltk_data...\n",
            "[nltk_data]   Unzipping corpora/stopwords.zip.\n"
          ],
          "name": "stdout"
        },
        {
          "output_type": "execute_result",
          "data": {
            "text/plain": [
              "True"
            ]
          },
          "metadata": {
            "tags": []
          },
          "execution_count": 2
        }
      ]
    },
    {
      "cell_type": "code",
      "metadata": {
        "id": "gYLqvV98QPo1"
      },
      "source": [
        "import pickle\n",
        "import numpy as np\n",
        "import nltk\n",
        "import re\n",
        "import keras\n",
        "import contractions\n",
        "\n",
        "from nltk.corpus import stopwords\n",
        "from nltk.tokenize import RegexpTokenizer\n",
        "from nltk.stem import WordNetLemmatizer\n",
        "from nltk.tag import pos_tag\n",
        "\n",
        "import string\n",
        "import contractions\n",
        "import spacy\n",
        "from sklearn.metrics import confusion_matrix\n",
        "from sklearn.metrics import ConfusionMatrixDisplay"
      ],
      "execution_count": null,
      "outputs": []
    },
    {
      "cell_type": "code",
      "metadata": {
        "id": "nBXGrUuPY52P"
      },
      "source": [
        "from keras.preprocessing.sequence import pad_sequences"
      ],
      "execution_count": null,
      "outputs": []
    },
    {
      "cell_type": "code",
      "metadata": {
        "id": "eiOJtTNVdEHM"
      },
      "source": [
        "#remove contractions\n",
        "def fix_contractions(tweets):\n",
        "  no_contract = []\n",
        "  for item in range(len(tweets)):\n",
        "    try:\n",
        "      no_contract.append(contractions.fix(tweets[item]))\n",
        "    except IndexError:\n",
        "      pass\n",
        "  return no_contract"
      ],
      "execution_count": null,
      "outputs": []
    },
    {
      "cell_type": "code",
      "metadata": {
        "id": "WTFyorsGeP5c"
      },
      "source": [
        "def remove_noise(tweet_tokens):\n",
        "    # remove hyperlinks, special characters, emojis, punctuations\n",
        "    \n",
        "    for i in range(len(tweet_tokens)):\n",
        "        tweet_tokens[i] = re.sub('http[s]?://(?:[a-zA-Z]|[0-9]|[$-_@.&+#]|[!*\\(\\),]|'\\\n",
        "                           '(?:%[0-9a-fA-F][0-9a-fA-F]))*', ' ', tweet_tokens[i])\n",
        "        # Remove twitter handles\n",
        "        tweet_tokens[i] = re.sub(\"(@[A-Za-z0-9_]*)\",\" \", tweet_tokens[i])\n",
        "        # make lower\n",
        "        tweet_tokens[i] = tweet_tokens[i].lower()\n",
        "        tweet_tokens[i] = re.sub('\\brt\\b', ' ', tweet_tokens[i])\n",
        "        tweet_tokens[i] = re.sub('[^\\w\\s]', ' ', tweet_tokens[i])\n",
        "    return tweet_tokens"
      ],
      "execution_count": null,
      "outputs": []
    },
    {
      "cell_type": "code",
      "metadata": {
        "id": "U7l0X7DmeZCj"
      },
      "source": [
        "def tokenise(tweet):\n",
        "  tokenizer = RegexpTokenizer(r'\\w+|[^\\w\\s]+')\n",
        "  tokenized = [tokenizer.tokenize(each) for each in tweet]\n",
        "  return tokenized"
      ],
      "execution_count": null,
      "outputs": []
    },
    {
      "cell_type": "code",
      "metadata": {
        "id": "uXS7IWRChCvg"
      },
      "source": [
        "stop_words=set(stopwords.words('english'))\n",
        "stop_words.remove('not')"
      ],
      "execution_count": null,
      "outputs": []
    },
    {
      "cell_type": "code",
      "metadata": {
        "id": "cpqdo-3veqy7"
      },
      "source": [
        "def remove_stopwords(X):\n",
        "  X_without_stopwords = []\n",
        "  for sentence in X:\n",
        "    temp = [word for word in sentence if not word in stop_words]\n",
        "    X_without_stopwords.append(temp) \n",
        "\n",
        "  return X_without_stopwords"
      ],
      "execution_count": null,
      "outputs": []
    },
    {
      "cell_type": "code",
      "metadata": {
        "id": "ZL7Ri9hhevV9"
      },
      "source": [
        "def lemmatize(tweet):\n",
        "  #Lemmatization\n",
        "  nlp = spacy.load('en_core_web_sm', disable=['tagger', 'parser', 'ner'])    \n",
        "\n",
        "  lengths = np.cumsum([0] + list(map(len, tweet)))\n",
        "\n",
        "  flat_words = [item for sublist in tweet for item in sublist]\n",
        "  doc = spacy.tokens.Doc(nlp.vocab, words=flat_words)\n",
        "\n",
        "  lemmatized = []\n",
        "  # Iterate starting with 1\n",
        "  for index in range(1, len(lengths)):\n",
        "      # Slice doc as described in the first point, so [0:3] and [3:6]\n",
        "      span = doc[lengths[index - 1] : lengths[index]]\n",
        "      # Add lemmatized tokens as list to the list\n",
        "      lemmatized.append([token.lemma_ for token in span])\n",
        "\n",
        "  return lemmatized"
      ],
      "execution_count": null,
      "outputs": []
    },
    {
      "cell_type": "code",
      "metadata": {
        "id": "s9sL3r1zfI_9"
      },
      "source": [
        "def clean_vec_pad(tweet):\n",
        "  clean_lem = []\n",
        "\n",
        "  for sentence in tweet:\n",
        "    temp = \" \".join(sentence)\n",
        "    clean_lem.append(temp)\n",
        "\n",
        "  ltcleanvectorized=tokenizer.texts_to_sequences(clean_lem)\n",
        "\n",
        "  ltcleanpad = pad_sequences(ltcleanvectorized, max_length,padding='post',\n",
        "                                                         truncating='post')\n",
        "  \n",
        "  return ltcleanpad\n"
      ],
      "execution_count": null,
      "outputs": []
    },
    {
      "cell_type": "code",
      "metadata": {
        "id": "HsDC6LPMSArM"
      },
      "source": [
        "with open('/content/drive/MyDrive/newtokenizer.pickle', 'rb') as handle:\n",
        "  tokenizer = pickle.load(handle)\n",
        "\n",
        "# only for confusion matrix, else not needed\n",
        "with open('/content/drive/MyDrive/newfsacd_x_test.pickle', 'rb') as handle:\n",
        "  X_test = pickle.load(handle)\n",
        "\n",
        "with open('/content/drive/MyDrive/newfsacd_y_test.pickle', 'rb') as handle:\n",
        "  Y_test = pickle.load(handle)"
      ],
      "execution_count": null,
      "outputs": []
    },
    {
      "cell_type": "code",
      "metadata": {
        "id": "KN_B7vpGSNhL"
      },
      "source": [
        "model = keras.models.load_model('/content/drive/MyDrive/contract_word2vec5_newfsact_lstm2l_w_neu_bs512')"
      ],
      "execution_count": null,
      "outputs": []
    },
    {
      "cell_type": "code",
      "metadata": {
        "id": "zVRI1HipaQbc"
      },
      "source": [
        "max_length=25\n",
        "labels = [\"Negative\", \"Neutral\", \"Positive\"]"
      ],
      "execution_count": null,
      "outputs": []
    },
    {
      "cell_type": "code",
      "metadata": {
        "id": "Awqf-RwHRzQD"
      },
      "source": [
        "# prediction\n",
        "\n",
        "def sentiment_predict(text):\n",
        "  print(text)\n",
        "  fc = fix_contractions(text)\n",
        "  print(fc)\n",
        "  rm = remove_noise(fc)\n",
        "  print(rm)\n",
        "  tk = tokenise(rm)\n",
        "  print(tk)\n",
        "  sw = remove_stopwords(tk)\n",
        "  print(sw)\n",
        "  lm = lemmatize(sw)\n",
        "  print(lm)\n",
        "  pd = clean_vec_pad(lm)\n",
        "  return model.predict(pd)\n",
        "\n",
        "  #predicted = model.predict(pd)"
      ],
      "execution_count": null,
      "outputs": []
    },
    {
      "cell_type": "code",
      "metadata": {
        "id": "qeNgxG1hZwk1"
      },
      "source": [
        "test_text = [\"Zomato should be praised for the ork they've done in recent times\"]"
      ],
      "execution_count": null,
      "outputs": []
    },
    {
      "cell_type": "code",
      "metadata": {
        "colab": {
          "base_uri": "https://localhost:8080/"
        },
        "id": "Ri-HQsqKgu98",
        "outputId": "76bdd74e-d3d8-487f-90da-ba608b025ff6"
      },
      "source": [
        "out = sentiment_predict(test_text)"
      ],
      "execution_count": null,
      "outputs": [
        {
          "output_type": "stream",
          "text": [
            "[\"Zomato should be praised for the ork they've done in recent times\"]\n",
            "['Zomato should be praised for the ork they have done in recent times']\n",
            "['zomato should be praised for the ork they have done in recent times']\n",
            "[['zomato', 'should', 'be', 'praised', 'for', 'the', 'ork', 'they', 'have', 'done', 'in', 'recent', 'times']]\n",
            "[['zomato', 'praised', 'ork', 'done', 'recent', 'times']]\n",
            "[['zomato', 'praise', 'ork', 'do', 'recent', 'time']]\n"
          ],
          "name": "stdout"
        }
      ]
    },
    {
      "cell_type": "code",
      "metadata": {
        "colab": {
          "base_uri": "https://localhost:8080/"
        },
        "id": "d5zWpI6tZ_H8",
        "outputId": "f77c19a9-9444-4185-9a35-472ee47c0874"
      },
      "source": [
        "print(labels[np.argmax(out)])"
      ],
      "execution_count": null,
      "outputs": [
        {
          "output_type": "stream",
          "text": [
            "Positive\n"
          ],
          "name": "stdout"
        }
      ]
    },
    {
      "cell_type": "code",
      "metadata": {
        "id": "swjwI6vlZW88"
      },
      "source": [
        "ref = []\n",
        "for test in Y_test:\n",
        "  ref.append(test[0])"
      ],
      "execution_count": null,
      "outputs": []
    },
    {
      "cell_type": "code",
      "metadata": {
        "id": "GLZLlNLVTPD8"
      },
      "source": [
        "y_preds = model.predict(X_test)"
      ],
      "execution_count": null,
      "outputs": []
    },
    {
      "cell_type": "code",
      "metadata": {
        "id": "XBms2GpWYU4s"
      },
      "source": [
        "test = []\n",
        "for i in y_preds:\n",
        "  test.append(np.argmax(i))"
      ],
      "execution_count": null,
      "outputs": []
    },
    {
      "cell_type": "code",
      "metadata": {
        "colab": {
          "base_uri": "https://localhost:8080/",
          "height": 295
        },
        "id": "Q8V2bxYwTMoD",
        "outputId": "3284a2ec-72f2-41ae-e18b-3af6b9ea1458"
      },
      "source": [
        "# plot confusion matrix\n",
        "cm = confusion_matrix(y_true = ref, y_pred=test)\n",
        "disp = ConfusionMatrixDisplay(confusion_matrix=cm, display_labels=labels)\n",
        "disp.plot(values_format='')"
      ],
      "execution_count": null,
      "outputs": [
        {
          "output_type": "execute_result",
          "data": {
            "text/plain": [
              "<sklearn.metrics._plot.confusion_matrix.ConfusionMatrixDisplay at 0x7fb85bdcfc10>"
            ]
          },
          "metadata": {
            "tags": []
          },
          "execution_count": 22
        },
        {
          "output_type": "display_data",
          "data": {
            "image/png": "[encoded data removed]",
            "text/plain": [
              "<Figure size 432x288 with 2 Axes>"
            ]
          },
          "metadata": {
            "tags": [],
            "needs_background": "light"
          }
        }
      ]
    },
    {
      "cell_type": "code",
      "metadata": {
        "id": "C5NV58X4dDAW"
      },
      "source": [
        "from sklearn.metrics import precision_recall_fscore_support"
      ],
      "execution_count": null,
      "outputs": []
    },
    {
      "cell_type": "code",
      "metadata": {
        "colab": {
          "base_uri": "https://localhost:8080/"
        },
        "id": "UieohUogdDv8",
        "outputId": "9b5ad46a-5471-4224-97a9-3467436f8ae7"
      },
      "source": [
        "precision_recall_fscore_support(ref, test, labels=[0, 1, 2])"
      ],
      "execution_count": null,
      "outputs": [
        {
          "output_type": "execute_result",
          "data": {
            "text/plain": [
              "(array([0.73788907, 0.90680497, 0.75296071]),\n",
              " array([0.79255935, 0.91390539, 0.69240013]),\n",
              " array([0.76424775, 0.91034134, 0.72141168]),\n",
              " array([240194, 189013, 239662]))"
            ]
          },
          "metadata": {
            "tags": []
          },
          "execution_count": 24
        }
      ]
    }
  ]
}